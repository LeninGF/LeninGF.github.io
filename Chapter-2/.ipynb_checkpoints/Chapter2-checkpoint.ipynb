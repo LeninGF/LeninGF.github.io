{
 "cells": [
  {
   "cell_type": "markdown",
   "metadata": {
    "slideshow": {
     "slide_type": "slide"
    }
   },
   "source": [
    "## Objetivos del capítulo\n",
    "En este capítulo revisaremos:\n",
    "* Primera Parte\n",
    "    * Funciones\n",
    "    * If else, elif\n",
    "    * For loop\n",
    "    * While Loop\n",
    "* Segunda Parte\n",
    "    * Numpy\n",
    "    * Matplotlib"
   ]
  },
  {
   "cell_type": "markdown",
   "metadata": {
    "slideshow": {
     "slide_type": "slide"
    }
   },
   "source": [
    "## Funciones\n",
    "* Las funciones son la base del **procedural programming paradigm\".\n",
    "* Permiten dividir el programa en partes más pequeñas. **Modularidad**\n",
    "* Reutilización del código. Las funciones pueden ser llamadas varias veces.\n",
    "* Manejable. Un programa divido en funciones es más fácil de **debug**\n",
    "* Pueden o no tener argumentos\n",
    "* pueden o no devolver un resultado"
   ]
  },
  {
   "cell_type": "code",
   "execution_count": 13,
   "metadata": {
    "slideshow": {
     "slide_type": "subslide"
    }
   },
   "outputs": [
    {
     "name": "stdout",
     "output_type": "stream",
     "text": [
      "hola\n"
     ]
    }
   ],
   "source": [
    "def imprimir_hola():\n",
    "    print('hola')\n",
    "    \n",
    "imprimir_hola()"
   ]
  },
  {
   "cell_type": "code",
   "execution_count": 15,
   "metadata": {
    "slideshow": {
     "slide_type": "fragment"
    }
   },
   "outputs": [
    {
     "name": "stdout",
     "output_type": "stream",
     "text": [
      "Mi nombre es Rumpelstiltskin\n"
     ]
    }
   ],
   "source": [
    "def imprimir_mi_nombre(nombre):\n",
    "    print('Mi nombre es {}'.format(nombre))\n",
    "\n",
    "imprimir_mi_nombre('Rumpelstiltskin')"
   ]
  },
  {
   "cell_type": "code",
   "execution_count": 16,
   "metadata": {
    "slideshow": {
     "slide_type": "fragment"
    }
   },
   "outputs": [
    {
     "data": {
      "text/plain": [
       "5.0"
      ]
     },
     "execution_count": 16,
     "metadata": {},
     "output_type": "execute_result"
    }
   ],
   "source": [
    "from math import pow, sqrt\n",
    "def hipotenusa(cateto_1, cateto_2):\n",
    "    return sqrt(pow(cateto_1,2)+pow(cateto_2,2))\n",
    "hipotenusa(3.,4.)"
   ]
  },
  {
   "cell_type": "markdown",
   "metadata": {
    "slideshow": {
     "slide_type": "slide"
    }
   },
   "source": [
    "# IF - Else - Elif\n",
    "Para aprobar un curso se require de un minimo de 70% de la nota. Si la nota ingresada es mayor a este valor imprima **aprobado** sino **rechazado**"
   ]
  },
  {
   "cell_type": "code",
   "execution_count": 1,
   "metadata": {
    "slideshow": {
     "slide_type": "subslide"
    }
   },
   "outputs": [
    {
     "name": "stdout",
     "output_type": "stream",
     "text": [
      "Digite un numero entre 0 - 100: 25\n",
      "Falla\n"
     ]
    }
   ],
   "source": [
    "nota = input('Digite un numero entre 0 - 100: ')\n",
    "if int(nota) > 70:\n",
    "    print('Aprobado')\n",
    "else:\n",
    "    print('Falla')\n"
   ]
  },
  {
   "cell_type": "code",
   "execution_count": 2,
   "metadata": {
    "slideshow": {
     "slide_type": "fragment"
    }
   },
   "outputs": [
    {
     "name": "stdout",
     "output_type": "stream",
     "text": [
      "Digite un numero entre 0 - 100: 25\n",
      "Falla\n"
     ]
    }
   ],
   "source": [
    "nota = input('Digite un numero entre 0 - 100: ')\n",
    "if int(nota) > 70:\n",
    "    print('Aprobado')\n",
    "print('Falla')\n"
   ]
  },
  {
   "cell_type": "markdown",
   "metadata": {
    "slideshow": {
     "slide_type": "subslide"
    }
   },
   "source": [
    "Se desea implementar un indicador de temperatura de 3 niveles para un motor trifásico. Sea temperatura el nombre de la variable de tipo real\n",
    "* Si temperatura mayor a 40: \"Peligro\"\n",
    "* Si temperatura entre 10 a 40: \"Normal\" \n",
    "* Si temperatura menor a 10: \"Revisar humedad interna motor\""
   ]
  },
  {
   "cell_type": "code",
   "execution_count": 9,
   "metadata": {
    "slideshow": {
     "slide_type": "fragment"
    }
   },
   "outputs": [
    {
     "name": "stdout",
     "output_type": "stream",
     "text": [
      "Ingrese el valor de temperatura: hola\n"
     ]
    },
    {
     "ename": "ValueError",
     "evalue": "could not convert string to float: 'hola'",
     "output_type": "error",
     "traceback": [
      "\u001b[0;31m---------------------------------------------------------------------------\u001b[0m",
      "\u001b[0;31mValueError\u001b[0m                                Traceback (most recent call last)",
      "\u001b[0;32m<ipython-input-9-f4170089fb8e>\u001b[0m in \u001b[0;36m<module>\u001b[0;34m\u001b[0m\n\u001b[0;32m----> 1\u001b[0;31m \u001b[0mtemperatura\u001b[0m \u001b[0;34m=\u001b[0m \u001b[0mfloat\u001b[0m\u001b[0;34m(\u001b[0m\u001b[0minput\u001b[0m\u001b[0;34m(\u001b[0m\u001b[0;34m'Ingrese el valor de temperatura: '\u001b[0m\u001b[0;34m)\u001b[0m\u001b[0;34m)\u001b[0m\u001b[0;34m\u001b[0m\u001b[0m\n\u001b[0m\u001b[1;32m      2\u001b[0m \u001b[0;32mif\u001b[0m \u001b[0mtemperatura\u001b[0m \u001b[0;34m>\u001b[0m \u001b[0;36m40.0\u001b[0m\u001b[0;34m:\u001b[0m\u001b[0;34m\u001b[0m\u001b[0m\n\u001b[1;32m      3\u001b[0m     \u001b[0mprint\u001b[0m\u001b[0;34m(\u001b[0m\u001b[0;34m'Peligro, incrementar refriegeración forzada en el motor'\u001b[0m\u001b[0;34m)\u001b[0m\u001b[0;34m\u001b[0m\u001b[0m\n\u001b[1;32m      4\u001b[0m \u001b[0;32melif\u001b[0m \u001b[0mtemperatura\u001b[0m \u001b[0;34m>=\u001b[0m \u001b[0;36m10.0\u001b[0m \u001b[0;32mand\u001b[0m \u001b[0mtemperatura\u001b[0m \u001b[0;34m<=\u001b[0m\u001b[0;36m40.0\u001b[0m\u001b[0;34m:\u001b[0m\u001b[0;34m\u001b[0m\u001b[0m\n\u001b[1;32m      5\u001b[0m     \u001b[0mprint\u001b[0m\u001b[0;34m(\u001b[0m\u001b[0;34m'Estado Normal'\u001b[0m\u001b[0;34m)\u001b[0m\u001b[0;34m\u001b[0m\u001b[0m\n",
      "\u001b[0;31mValueError\u001b[0m: could not convert string to float: 'hola'"
     ]
    }
   ],
   "source": [
    "temperatura = float(input('Ingrese el valor de temperatura: '))\n",
    "if temperatura > 40.0:\n",
    "    print('Peligro, incrementar refriegeración forzada en el motor')\n",
    "elif temperatura >= 10.0 and temperatura <=40.0:\n",
    "    print('Estado Normal')\n",
    "else: \n",
    "    print('Revisar humedad interna del motor')"
   ]
  },
  {
   "cell_type": "markdown",
   "metadata": {
    "slideshow": {
     "slide_type": "slide"
    }
   },
   "source": [
    "## Try and Catch\n",
    "Cuando necesitamos atrapar los errores en un programa, usamos la sentencia **Try**. Por ejemplo, si en el programa anterior ingresamos una cadena de caracteres en vez de un numero, la operación *float(temperatura)* va a fallar\n",
    "\n",
    "Revise la documentación disponible en: https://docs.python.org/3/tutorial/errors.html"
   ]
  },
  {
   "cell_type": "code",
   "execution_count": 11,
   "metadata": {
    "slideshow": {
     "slide_type": "slide"
    }
   },
   "outputs": [
    {
     "name": "stdout",
     "output_type": "stream",
     "text": [
      "Ingrese el valor de temperatura: \n",
      "Valor ingresado no es un número\n"
     ]
    }
   ],
   "source": [
    "try:\n",
    "    temperatura = float(input('Ingrese el valor de temperatura: '))\n",
    "    if temperatura > 40.0:\n",
    "        print('Peligro, incrementar refriegeración forzada en el motor')\n",
    "    elif temperatura >= 10.0 and temperatura <=40.0:\n",
    "        print('Estado Normal')\n",
    "    else: \n",
    "        print('Revisar humedad interna del motor')\n",
    "except ValueError:\n",
    "    print('Valor ingresado no es un número')\n"
   ]
  },
  {
   "cell_type": "markdown",
   "metadata": {
    "slideshow": {
     "slide_type": "slide"
    }
   },
   "source": [
    "## Ejercicio\n",
    "Simplifique el programa anterior utilizando funciones"
   ]
  },
  {
   "cell_type": "markdown",
   "metadata": {
    "slideshow": {
     "slide_type": "slide"
    }
   },
   "source": [
    "## For Loop:\n",
    "En python el lazo for es distinto al de *C* y generalmente opera sobre listas\n"
   ]
  },
  {
   "cell_type": "code",
   "execution_count": 18,
   "metadata": {
    "slideshow": {
     "slide_type": "fragment"
    }
   },
   "outputs": [
    {
     "name": "stdout",
     "output_type": "stream",
     "text": [
      "Ana\n",
      "Alvaro\n",
      "Ariana\n",
      "Annabel\n"
     ]
    }
   ],
   "source": [
    "lista_nombres = ['Ana','Alvaro', 'Ariana', 'Annabel']\n",
    "\n",
    "for nombre in lista_nombres:\n",
    "    print(nombre)"
   ]
  },
  {
   "cell_type": "markdown",
   "metadata": {
    "slideshow": {
     "slide_type": "subslide"
    }
   },
   "source": [
    "Imprimir los $n$ primeros números pares"
   ]
  },
  {
   "cell_type": "code",
   "execution_count": 22,
   "metadata": {
    "slideshow": {
     "slide_type": "fragment"
    }
   },
   "outputs": [
    {
     "name": "stdout",
     "output_type": "stream",
     "text": [
      "Ingrese un numero entero 15\n",
      "0\n",
      "2\n",
      "4\n",
      "6\n",
      "8\n",
      "10\n",
      "12\n",
      "14\n"
     ]
    }
   ],
   "source": [
    "n = int(input('Ingrese un numero entero '))\n",
    "rango_numeros = range(n)\n",
    "\n",
    "def es_par(numero):\n",
    "    if numero%2 ==0:\n",
    "        return True\n",
    "    else:\n",
    "        return False\n",
    "\n",
    "for numero in rango_numeros:\n",
    "    if es_par(numero=numero):\n",
    "        print(numero)\n",
    "    else:\n",
    "        continue\n"
   ]
  },
  {
   "cell_type": "markdown",
   "metadata": {
    "slideshow": {
     "slide_type": "subslide"
    }
   },
   "source": [
    "## For loop en formato funcional\n",
    "Este formato tiene la ventaja de reducir el numero de lineas de código. Suponga que deseamos obtener a partir de una lista de numeros aleatorios sus respectivos cuadrados. "
   ]
  },
  {
   "cell_type": "code",
   "execution_count": 39,
   "metadata": {
    "slideshow": {
     "slide_type": "fragment"
    }
   },
   "outputs": [
    {
     "name": "stdout",
     "output_type": "stream",
     "text": [
      "Ingrese el tamano de la lista10\n"
     ]
    },
    {
     "data": {
      "text/plain": [
       "[57, 78, 33, 18, 40, 80, 3, 0, 2, 95]"
      ]
     },
     "execution_count": 39,
     "metadata": {},
     "output_type": "execute_result"
    }
   ],
   "source": [
    "from random import randint\n",
    "size_list = int(input('Ingrese el tamano de la lista'))\n",
    "\n",
    "arreglo_original= [ randint(0,100) for i in range(size_list)] \n",
    "arreglo_original"
   ]
  },
  {
   "cell_type": "code",
   "execution_count": 40,
   "metadata": {
    "slideshow": {
     "slide_type": "fragment"
    }
   },
   "outputs": [
    {
     "data": {
      "text/plain": [
       "[3249, 6084, 1089, 324, 1600, 6400, 9, 0, 4, 9025]"
      ]
     },
     "execution_count": 40,
     "metadata": {},
     "output_type": "execute_result"
    }
   ],
   "source": [
    "arreglo_cuadrado = [ numero**2 for numero in arreglo_original]\n",
    "arreglo_cuadrado"
   ]
  },
  {
   "cell_type": "markdown",
   "metadata": {
    "slideshow": {
     "slide_type": "slide"
    }
   },
   "source": [
    "## While Loop\n",
    "Ejecución de una rutina mientras es verdadera"
   ]
  },
  {
   "cell_type": "code",
   "execution_count": 25,
   "metadata": {
    "slideshow": {
     "slide_type": "fragment"
    }
   },
   "outputs": [
    {
     "name": "stdout",
     "output_type": "stream",
     "text": [
      "Ingrese un numero entero 5\n",
      "0 es menor a 5 \n",
      "1 es menor a 5 \n",
      "2 es menor a 5 \n",
      "3 es menor a 5 \n",
      "4 es menor a 5 \n"
     ]
    }
   ],
   "source": [
    "n = int(input('Ingrese un numero entero '))\n",
    "cont = 0\n",
    "while(cont<n):\n",
    "    print('{} es menor a {} '.format(cont, n))\n",
    "    cont+=1"
   ]
  },
  {
   "cell_type": "markdown",
   "metadata": {
    "slideshow": {
     "slide_type": "slide"
    }
   },
   "source": [
    "## Ejercicios\n",
    "* Escribir una función que verifique si un numero es primo o no\n",
    "* Escribir una función factorial\n",
    "* Escribir una función que verifique si un numero es primo de Sheldon\n",
    "* Dado un arreglo de numeros enteros ordenarlos"
   ]
  },
  {
   "cell_type": "markdown",
   "metadata": {
    "slideshow": {
     "slide_type": "slide"
    }
   },
   "source": [
    "## Zen of python\n",
    "<center>\n",
    "    \n",
    "<img src='images/zen.png' width=50%/>\n",
    "</center>"
   ]
  },
  {
   "cell_type": "markdown",
   "metadata": {
    "slideshow": {
     "slide_type": "slide"
    }
   },
   "source": [
    "## Numpy - Numerical Python\n",
    "* Permite realizar operaciones matriciales similares a las realizables con Matlab\n",
    "* Permite realizar: operaciones multidimensionales, lógicas, algebra lineal, transformadas de fourier, entre otras\n",
    "* Puede utilizar tipos de datos int8, int16, int32 int64, float16, float32, float64, uint8, uint16, uint32\n"
   ]
  },
  {
   "cell_type": "code",
   "execution_count": 34,
   "metadata": {
    "slideshow": {
     "slide_type": "subslide"
    }
   },
   "outputs": [
    {
     "name": "stdout",
     "output_type": "stream",
     "text": [
      "arreglo [1 2 3 4]\n",
      "matriz \n",
      " [[1 2 3]\n",
      " [4 5 6]] \n"
     ]
    }
   ],
   "source": [
    "import numpy as np\n",
    "array1 = np.array([1,2,3,4])\n",
    "matriz = np.matrix([[1,2,3], [4,5,6]])\n",
    "print('arreglo {}'.format(array1))\n",
    "print('matriz \\n {} '.format(matriz))"
   ]
  },
  {
   "cell_type": "code",
   "execution_count": 35,
   "metadata": {
    "slideshow": {
     "slide_type": "fragment"
    }
   },
   "outputs": [
    {
     "data": {
      "text/plain": [
       "matrix([[1, 2, 3],\n",
       "        [4, 5, 6],\n",
       "        [7, 8, 9]])"
      ]
     },
     "execution_count": 35,
     "metadata": {},
     "output_type": "execute_result"
    }
   ],
   "source": [
    "a = np.matrix('1 2 3 ; 4 5 6; 7 8 9')\n",
    "a"
   ]
  },
  {
   "cell_type": "code",
   "execution_count": 37,
   "metadata": {
    "slideshow": {
     "slide_type": "subslide"
    }
   },
   "outputs": [
    {
     "data": {
      "text/plain": [
       "matrix([['1', '2', '3'],\n",
       "        ['4', '5', '6'],\n",
       "        ['7', '8', '9']], dtype='<U1')"
      ]
     },
     "execution_count": 37,
     "metadata": {},
     "output_type": "execute_result"
    }
   ],
   "source": [
    "b = np.matrix('1 2 3 ; 4 5 6; 7 8 9', dtype=str)\n",
    "b"
   ]
  },
  {
   "cell_type": "code",
   "execution_count": 44,
   "metadata": {
    "slideshow": {
     "slide_type": "fragment"
    }
   },
   "outputs": [
    {
     "data": {
      "text/plain": [
       "array([0., 2., 4., 6., 8.], dtype=float32)"
      ]
     },
     "execution_count": 44,
     "metadata": {},
     "output_type": "execute_result"
    }
   ],
   "source": [
    "c = np.arange(0,10,2, dtype=np.float32)\n",
    "c"
   ]
  },
  {
   "cell_type": "code",
   "execution_count": 47,
   "metadata": {
    "slideshow": {
     "slide_type": "fragment"
    }
   },
   "outputs": [
    {
     "data": {
      "text/plain": [
       "array([ 0.        ,  1.11111111,  2.22222222,  3.33333333,  4.44444444,\n",
       "        5.55555556,  6.66666667,  7.77777778,  8.88888889, 10.        ])"
      ]
     },
     "execution_count": 47,
     "metadata": {},
     "output_type": "execute_result"
    }
   ],
   "source": [
    "arreglo = np.linspace(0,10, 10)\n",
    "arreglo"
   ]
  },
  {
   "cell_type": "code",
   "execution_count": 74,
   "metadata": {
    "slideshow": {
     "slide_type": "subslide"
    }
   },
   "outputs": [
    {
     "data": {
      "text/plain": [
       "array([[0.29781994, 0.56418264, 0.30939084, 0.38419085, 0.77670567],\n",
       "       [0.63081208, 0.80897464, 0.67771148, 0.2070571 , 0.16441434],\n",
       "       [0.82124818, 0.73041728, 0.20749951, 0.14371113, 0.88724438],\n",
       "       [0.48732753, 0.86933096, 0.95251085, 0.75384575, 0.22705426],\n",
       "       [0.2058425 , 0.27761099, 0.42665696, 0.55439317, 0.20970712]])"
      ]
     },
     "execution_count": 74,
     "metadata": {},
     "output_type": "execute_result"
    }
   ],
   "source": [
    "mat_a = np.random.rand(5,5)\n",
    "mat_a"
   ]
  },
  {
   "cell_type": "code",
   "execution_count": 75,
   "metadata": {
    "slideshow": {
     "slide_type": "fragment"
    }
   },
   "outputs": [
    {
     "data": {
      "text/plain": [
       "matrix([[0.29781994, 0.56418264, 0.30939084, 0.38419085, 0.77670567],\n",
       "        [0.63081208, 0.80897464, 0.67771148, 0.2070571 , 0.16441434],\n",
       "        [0.82124818, 0.73041728, 0.20749951, 0.14371113, 0.88724438],\n",
       "        [0.48732753, 0.86933096, 0.95251085, 0.75384575, 0.22705426],\n",
       "        [0.2058425 , 0.27761099, 0.42665696, 0.55439317, 0.20970712]])"
      ]
     },
     "execution_count": 75,
     "metadata": {},
     "output_type": "execute_result"
    }
   ],
   "source": [
    "mat_a = np.asmatrix(mat_a)\n",
    "mat_a"
   ]
  },
  {
   "cell_type": "markdown",
   "metadata": {
    "slideshow": {
     "slide_type": "subslide"
    }
   },
   "source": [
    "## Aplicando funciones integradas en Numpy"
   ]
  },
  {
   "cell_type": "code",
   "execution_count": 49,
   "metadata": {
    "slideshow": {
     "slide_type": "fragment"
    }
   },
   "outputs": [
    {
     "data": {
      "text/plain": [
       "array([0, 1, 2, 3, 4, 5, 6, 7, 8, 9])"
      ]
     },
     "execution_count": 49,
     "metadata": {},
     "output_type": "execute_result"
    }
   ],
   "source": [
    "arreglo = np.arange(0,10,1)\n",
    "arreglo"
   ]
  },
  {
   "cell_type": "code",
   "execution_count": 53,
   "metadata": {
    "slideshow": {
     "slide_type": "fragment"
    }
   },
   "outputs": [
    {
     "data": {
      "text/plain": [
       "45"
      ]
     },
     "execution_count": 53,
     "metadata": {},
     "output_type": "execute_result"
    }
   ],
   "source": [
    "x = np.sum(arreglo)\n",
    "x"
   ]
  },
  {
   "cell_type": "code",
   "execution_count": 54,
   "metadata": {
    "slideshow": {
     "slide_type": "fragment"
    }
   },
   "outputs": [
    {
     "data": {
      "text/plain": [
       "4.5"
      ]
     },
     "execution_count": 54,
     "metadata": {},
     "output_type": "execute_result"
    }
   ],
   "source": [
    "x = np.mean(arreglo)\n",
    "x"
   ]
  },
  {
   "cell_type": "code",
   "execution_count": 58,
   "metadata": {
    "slideshow": {
     "slide_type": "subslide"
    }
   },
   "outputs": [
    {
     "data": {
      "text/plain": [
       "9"
      ]
     },
     "execution_count": 58,
     "metadata": {},
     "output_type": "execute_result"
    }
   ],
   "source": [
    "x = np.max(arreglo)\n",
    "x"
   ]
  },
  {
   "cell_type": "code",
   "execution_count": 59,
   "metadata": {
    "slideshow": {
     "slide_type": "fragment"
    }
   },
   "outputs": [
    {
     "data": {
      "text/plain": [
       "2.8722813232690143"
      ]
     },
     "execution_count": 59,
     "metadata": {},
     "output_type": "execute_result"
    }
   ],
   "source": [
    "x = np.std(arreglo)\n",
    "x"
   ]
  },
  {
   "cell_type": "code",
   "execution_count": 63,
   "metadata": {
    "slideshow": {
     "slide_type": "subslide"
    }
   },
   "outputs": [
    {
     "data": {
      "image/png": "[encoded data removed]",
      "text/plain": [
       "<Figure size 432x288 with 1 Axes>"
      ]
     },
     "metadata": {
      "needs_background": "light"
     },
     "output_type": "display_data"
    }
   ],
   "source": [
    "arreglo2 = np.random.randint(0, 100, 100)\n",
    "import matplotlib.pyplot as plt\n",
    "plt.hist(arreglo2)\n",
    "plt.title('Valores Generados')\n",
    "plt.xlabel('Valores')\n",
    "plt.ylabel('Numero')\n",
    "plt.show()"
   ]
  },
  {
   "cell_type": "markdown",
   "metadata": {
    "slideshow": {
     "slide_type": "slide"
    }
   },
   "source": [
    "## Ejercicios\n",
    "* Declare dos arreglos lineales y obtenga el producto escalar de los mismos. Resuelva con numpy y con una funcion propia\n",
    "* Declare dos matrices $A$ y $B$ de tamaños $m$ y $n$ donde $m \\neq n$ y obtenga: $A+B$, $A*B$, $A.*B$"
   ]
  },
  {
   "cell_type": "markdown",
   "metadata": {
    "slideshow": {
     "slide_type": "slide"
    }
   },
   "source": [
    "## Matplotlib\n",
    "La librería de python que permite graficar resultados e imágenes similar a Matlab"
   ]
  },
  {
   "cell_type": "code",
   "execution_count": 70,
   "metadata": {
    "scrolled": true,
    "slideshow": {
     "slide_type": "fragment"
    }
   },
   "outputs": [
    {
     "data": {
      "image/png": "[encoded data removed]",
      "text/plain": [
       "<Figure size 432x288 with 1 Axes>"
      ]
     },
     "metadata": {
      "needs_background": "light"
     },
     "output_type": "display_data"
    },
    {
     "data": {
      "text/plain": [
       "<Figure size 432x288 with 0 Axes>"
      ]
     },
     "metadata": {},
     "output_type": "display_data"
    }
   ],
   "source": [
    "x =np.linspace(-np.pi, np.pi, 300)\n",
    "y1, y2 = np.sin(x), np.cos(x)\n",
    "plt.figure()\n",
    "plt.plot(x, y1, color='blue', linestyle='--')\n",
    "plt.plot(x, y2, color='red', linestyle='-')\n",
    "plt.show()\n",
    "plt.savefig('images/SinCos.png', dpi=180)"
   ]
  },
  {
   "cell_type": "code",
   "execution_count": 73,
   "metadata": {
    "slideshow": {
     "slide_type": "subslide"
    }
   },
   "outputs": [
    {
     "data": {
      "image/png": "[encoded data removed]",
      "text/plain": [
       "<Figure size 432x288 with 2 Axes>"
      ]
     },
     "metadata": {
      "needs_background": "light"
     },
     "output_type": "display_data"
    }
   ],
   "source": [
    "plt.figure()\n",
    "plt.subplot(1,2,1)\n",
    "plt.plot(x,y1)\n",
    "plt.title('G1')\n",
    "plt.subplot(1,2,2)\n",
    "plt.plot(x,y2)\n",
    "plt.title('G2')\n",
    "plt.show()"
   ]
  },
  {
   "cell_type": "code",
   "execution_count": 71,
   "metadata": {
    "scrolled": true,
    "slideshow": {
     "slide_type": "subslide"
    }
   },
   "outputs": [
    {
     "data": {
      "image/png": "[encoded data removed]",
      "text/plain": [
       "<Figure size 432x288 with 2 Axes>"
      ]
     },
     "metadata": {
      "needs_background": "light"
     },
     "output_type": "display_data"
    }
   ],
   "source": [
    "img = np.random.random((27,27))\n",
    "plt.imshow(img)\n",
    "plt.colorbar()\n",
    "plt.show()"
   ]
  },
  {
   "cell_type": "markdown",
   "metadata": {
    "slideshow": {
     "slide_type": "subslide"
    }
   },
   "source": [
    "# Referencias Adicionales\n",
    "* http://cs231n.github.io/python-numpy-tutorial/\n"
   ]
  },
  {
   "cell_type": "code",
   "execution_count": 80,
   "metadata": {
    "slideshow": {
     "slide_type": "skip"
    }
   },
   "outputs": [
    {
     "data": {
      "text/html": [
       "<div>\n",
       "<style scoped>\n",
       "    .dataframe tbody tr th:only-of-type {\n",
       "        vertical-align: middle;\n",
       "    }\n",
       "\n",
       "    .dataframe tbody tr th {\n",
       "        vertical-align: top;\n",
       "    }\n",
       "\n",
       "    .dataframe thead th {\n",
       "        text-align: right;\n",
       "    }\n",
       "</style>\n",
       "<table border=\"1\" class=\"dataframe\">\n",
       "  <thead>\n",
       "    <tr style=\"text-align: right;\">\n",
       "      <th></th>\n",
       "      <th>aparato1</th>\n",
       "      <th>aparato2</th>\n",
       "    </tr>\n",
       "  </thead>\n",
       "  <tbody>\n",
       "    <tr>\n",
       "      <th>corriente</th>\n",
       "      <td>12.5</td>\n",
       "      <td>12.5</td>\n",
       "    </tr>\n",
       "    <tr>\n",
       "      <th>voltaje</th>\n",
       "      <td>220.0</td>\n",
       "      <td>220.0</td>\n",
       "    </tr>\n",
       "  </tbody>\n",
       "</table>\n",
       "</div>"
      ],
      "text/plain": [
       "           aparato1  aparato2\n",
       "corriente      12.5      12.5\n",
       "voltaje       220.0     220.0"
      ]
     },
     "execution_count": 80,
     "metadata": {},
     "output_type": "execute_result"
    }
   ],
   "source": [
    "import pandas as pd\n",
    "parametros_electricos = { 'aparato1':{'voltaje':220, 'corriente':12.5}, 'aparato2':{'voltaje':220, 'corriente':12.5}}\n",
    "df = pd.DataFrame.from_dict(parametros_electricos)\n",
    "df"
   ]
  },
  {
   "cell_type": "code",
   "execution_count": 82,
   "metadata": {
    "slideshow": {
     "slide_type": "skip"
    }
   },
   "outputs": [
    {
     "data": {
      "text/html": [
       "<div>\n",
       "<style scoped>\n",
       "    .dataframe tbody tr th:only-of-type {\n",
       "        vertical-align: middle;\n",
       "    }\n",
       "\n",
       "    .dataframe tbody tr th {\n",
       "        vertical-align: top;\n",
       "    }\n",
       "\n",
       "    .dataframe thead th {\n",
       "        text-align: right;\n",
       "    }\n",
       "</style>\n",
       "<table border=\"1\" class=\"dataframe\">\n",
       "  <thead>\n",
       "    <tr style=\"text-align: right;\">\n",
       "      <th></th>\n",
       "      <th>persona1</th>\n",
       "      <th>persona2</th>\n",
       "    </tr>\n",
       "  </thead>\n",
       "  <tbody>\n",
       "    <tr>\n",
       "      <th>edad</th>\n",
       "      <td>22</td>\n",
       "      <td>22</td>\n",
       "    </tr>\n",
       "    <tr>\n",
       "      <th>mensual</th>\n",
       "      <td>12</td>\n",
       "      <td>12</td>\n",
       "    </tr>\n",
       "    <tr>\n",
       "      <th>salario</th>\n",
       "      <td>12500</td>\n",
       "      <td>12500</td>\n",
       "    </tr>\n",
       "  </tbody>\n",
       "</table>\n",
       "</div>"
      ],
      "text/plain": [
       "         persona1  persona2\n",
       "edad           22        22\n",
       "mensual        12        12\n",
       "salario     12500     12500"
      ]
     },
     "execution_count": 82,
     "metadata": {},
     "output_type": "execute_result"
    }
   ],
   "source": [
    "parametros_electricos = { 'persona1':{'edad':22, 'salario':12500, 'mensual': 12}, 'persona2':{'edad':22, 'salario':12500, 'mensual': 12}}\n",
    "df = pd.DataFrame.from_dict(parametros_electricos)\n",
    "df"
   ]
  }
 ],
 "metadata": {
  "celltoolbar": "Slideshow",
  "kernelspec": {
   "display_name": "Python 3",
   "language": "python",
   "name": "python3"
  },
  "language_info": {
   "codemirror_mode": {
    "name": "ipython",
    "version": 3
   },
   "file_extension": ".py",
   "mimetype": "text/x-python",
   "name": "python",
   "nbconvert_exporter": "python",
   "pygments_lexer": "ipython3",
   "version": "3.7.3"
  }
 },
 "nbformat": 4,
 "nbformat_minor": 2
}
