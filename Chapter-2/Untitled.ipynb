{
 "cells": [
  {
   "cell_type": "code",
   "execution_count": 3,
   "metadata": {},
   "outputs": [
    {
     "data": {
      "text/plain": [
       "[16, 27, 31, 43, 18, 43, 26, 20, 38, 42]"
      ]
     },
     "execution_count": 3,
     "metadata": {},
     "output_type": "execute_result"
    }
   ],
   "source": [
    "from random import randint\n",
    "lista = []\n",
    "for i in range(10):\n",
    "    lista.append(randint(0,50))\n",
    "lista"
   ]
  },
  {
   "cell_type": "code",
   "execution_count": 5,
   "metadata": {},
   "outputs": [
    {
     "name": "stdout",
     "output_type": "stream",
     "text": [
      "1\n",
      "2\n",
      "3\n",
      "4\n",
      "5\n",
      "6\n",
      "7\n",
      "8\n",
      "9\n",
      "10\n"
     ]
    }
   ],
   "source": [
    "for i in range(10):\n",
    "    print(i+1)"
   ]
  },
  {
   "cell_type": "code",
   "execution_count": 4,
   "metadata": {},
   "outputs": [
    {
     "name": "stdout",
     "output_type": "stream",
     "text": [
      "a [12 32 60 13 44 29 14 80  1 18]\n",
      "b [42 87 29 39 17 12 14 18 97 73]\n"
     ]
    }
   ],
   "source": [
    "import numpy as np\n",
    "a = np.random.randint(0,100,10)\n",
    "b = np.random.randint(0,100,10)\n",
    "print('a', a)\n",
    "print('b', b)"
   ]
  },
  {
   "cell_type": "code",
   "execution_count": 6,
   "metadata": {},
   "outputs": [
    {
     "data": {
      "text/plain": [
       "9678"
      ]
     },
     "execution_count": 6,
     "metadata": {},
     "output_type": "execute_result"
    }
   ],
   "source": [
    "prod_escalar = np.dot(a,b)\n",
    "prod_escalar"
   ]
  },
  {
   "cell_type": "code",
   "execution_count": 7,
   "metadata": {},
   "outputs": [
    {
     "data": {
      "text/plain": [
       "array([[0.15002117, 0.27830657, 0.893816  ],\n",
       "       [0.49805018, 0.9283007 , 0.03917655],\n",
       "       [0.29482615, 0.06133588, 0.18324493],\n",
       "       [0.99937155, 0.06876924, 0.04287303],\n",
       "       [0.07386939, 0.42594399, 0.39152416]])"
      ]
     },
     "execution_count": 7,
     "metadata": {},
     "output_type": "execute_result"
    }
   ],
   "source": [
    "m_filas = 5\n",
    "n_cols = 3\n",
    "mat_a = np.random.rand(m_filas,n_cols)\n",
    "mat_a"
   ]
  },
  {
   "cell_type": "code",
   "execution_count": 8,
   "metadata": {},
   "outputs": [
    {
     "data": {
      "text/plain": [
       "array([[0.47183603, 0.32636835, 0.94170502],\n",
       "       [0.84305111, 0.91845172, 0.32127234],\n",
       "       [0.10818422, 0.64807768, 0.58584482],\n",
       "       [0.45565586, 0.45737693, 0.25601534],\n",
       "       [0.51111521, 0.50299077, 0.62971613]])"
      ]
     },
     "execution_count": 8,
     "metadata": {},
     "output_type": "execute_result"
    }
   ],
   "source": [
    "mat_b = np.random.rand(m_filas,n_cols)\n",
    "mat_b"
   ]
  },
  {
   "cell_type": "code",
   "execution_count": 11,
   "metadata": {},
   "outputs": [
    {
     "data": {
      "text/plain": [
       "array([[0.6218572 , 0.60467492, 1.83552101],\n",
       "       [1.34110129, 1.84675242, 0.36044889],\n",
       "       [0.40301037, 0.70941357, 0.76908974],\n",
       "       [1.45502741, 0.52614617, 0.29888838],\n",
       "       [0.5849846 , 0.92893476, 1.02124029]])"
      ]
     },
     "execution_count": 11,
     "metadata": {},
     "output_type": "execute_result"
    }
   ],
   "source": [
    "suma_mat = mat_a+mat_b\n",
    "suma_mat"
   ]
  },
  {
   "cell_type": "code",
   "execution_count": 14,
   "metadata": {},
   "outputs": [
    {
     "data": {
      "text/plain": [
       "array([[0.0707854 , 0.09083046, 0.84171101],\n",
       "       [0.41988176, 0.85259938, 0.01258634],\n",
       "       [0.03189554, 0.03975042, 0.10735309],\n",
       "       [0.45536951, 0.03145347, 0.01097615],\n",
       "       [0.03775577, 0.2142459 , 0.24654908]])"
      ]
     },
     "execution_count": 14,
     "metadata": {},
     "output_type": "execute_result"
    }
   ],
   "source": [
    "prod = mat_a*mat_b\n",
    "prod"
   ]
  },
  {
   "cell_type": "code",
   "execution_count": 15,
   "metadata": {},
   "outputs": [
    {
     "data": {
      "text/plain": [
       "array([[0.0707854 , 0.09083046, 0.84171101],\n",
       "       [0.41988176, 0.85259938, 0.01258634],\n",
       "       [0.03189554, 0.03975042, 0.10735309],\n",
       "       [0.45536951, 0.03145347, 0.01097615],\n",
       "       [0.03775577, 0.2142459 , 0.24654908]])"
      ]
     },
     "execution_count": 15,
     "metadata": {},
     "output_type": "execute_result"
    }
   ],
   "source": [
    "prod_1 = np.multiply(mat_a, mat_b)\n",
    "prod_1"
   ]
  },
  {
   "cell_type": "code",
   "execution_count": 17,
   "metadata": {},
   "outputs": [
    {
     "data": {
      "text/plain": [
       "array([[1.00332686, 0.66924503, 0.72023167, 0.42447964, 0.77951409],\n",
       "       [0.57485873, 1.28506747, 0.67844351, 0.6615526 , 0.74615781],\n",
       "       [0.33169036, 0.36375909, 0.17899904, 0.2093064 , 0.2969338 ],\n",
       "       [0.53435736, 0.91945645, 0.17780099, 0.49779913, 0.57238213],\n",
       "       [0.54256914, 0.57927055, 0.5134087 , 0.32871217, 0.49855074]])"
      ]
     },
     "execution_count": 17,
     "metadata": {},
     "output_type": "execute_result"
    }
   ],
   "source": [
    "prod_mat = np.dot(mat_a, np.transpose(mat_b))\n",
    "prod_mat"
   ]
  }
 ],
 "metadata": {
  "kernelspec": {
   "display_name": "Python 3",
   "language": "python",
   "name": "python3"
  },
  "language_info": {
   "codemirror_mode": {
    "name": "ipython",
    "version": 3
   },
   "file_extension": ".py",
   "mimetype": "text/x-python",
   "name": "python",
   "nbconvert_exporter": "python",
   "pygments_lexer": "ipython3",
   "version": "3.6.4"
  }
 },
 "nbformat": 4,
 "nbformat_minor": 2
}
