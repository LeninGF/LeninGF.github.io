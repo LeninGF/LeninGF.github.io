{
 "cells": [
  {
   "cell_type": "markdown",
   "metadata": {
    "slideshow": {
     "slide_type": "slide"
    }
   },
   "source": [
    "## Objetivos del capítulo\n",
    "En este capítulo revisaremos:\n",
    "* Primera Parte\n",
    "    * Funciones\n",
    "    * If else, elif\n",
    "    * For loop\n",
    "    * While Loop\n",
    "* Segunda Parte\n",
    "    * Numpy\n",
    "    * Matplotlib"
   ]
  },
  {
   "cell_type": "markdown",
   "metadata": {
    "slideshow": {
     "slide_type": "slide"
    }
   },
   "source": [
    "## Funciones\n",
    "* Las funciones son la base del **procedural programming paradigm\".\n",
    "* Permiten dividir el programa en partes más pequeñas. **Modularidad**\n",
    "* Reutilización del código. Las funciones pueden ser llamadas varias veces.\n",
    "* Manejable. Un programa divido en funciones es más fácil de **debug**\n",
    "* Pueden o no tener argumentos\n",
    "* pueden o no devolver un resultado"
   ]
  },
  {
   "cell_type": "code",
   "execution_count": 13,
   "metadata": {
    "slideshow": {
     "slide_type": "subslide"
    }
   },
   "outputs": [
    {
     "name": "stdout",
     "output_type": "stream",
     "text": [
      "hola\n"
     ]
    }
   ],
   "source": [
    "def imprimir_hola():\n",
    "    print('hola')\n",
    "    \n",
    "imprimir_hola()"
   ]
  },
  {
   "cell_type": "code",
   "execution_count": 15,
   "metadata": {
    "slideshow": {
     "slide_type": "fragment"
    }
   },
   "outputs": [
    {
     "name": "stdout",
     "output_type": "stream",
     "text": [
      "Mi nombre es Rumpelstiltskin\n"
     ]
    }
   ],
   "source": [
    "def imprimir_mi_nombre(nombre):\n",
    "    print('Mi nombre es {}'.format(nombre))\n",
    "\n",
    "imprimir_mi_nombre('Rumpelstiltskin')"
   ]
  },
  {
   "cell_type": "code",
   "execution_count": 16,
   "metadata": {
    "slideshow": {
     "slide_type": "fragment"
    }
   },
   "outputs": [
    {
     "data": {
      "text/plain": [
       "5.0"
      ]
     },
     "execution_count": 16,
     "metadata": {},
     "output_type": "execute_result"
    }
   ],
   "source": [
    "from math import pow, sqrt\n",
    "def hipotenusa(cateto_1, cateto_2):\n",
    "    return sqrt(pow(cateto_1,2)+pow(cateto_2,2))\n",
    "hipotenusa(3.,4.)"
   ]
  },
  {
   "cell_type": "markdown",
   "metadata": {
    "slideshow": {
     "slide_type": "slide"
    }
   },
   "source": [
    "# IF - Else - Elif\n",
    "Para aprobar un curso se require de un minimo de 70% de la nota. Si la nota ingresada es mayor a este valor imprima **aprobado** sino **rechazado**"
   ]
  },
  {
   "cell_type": "code",
   "execution_count": 2,
   "metadata": {
    "slideshow": {
     "slide_type": "subslide"
    }
   },
   "outputs": [
    {
     "name": "stdout",
     "output_type": "stream",
     "text": [
      "Digite un numero entre 0 - 100: 99\n",
      "Aprobado\n"
     ]
    }
   ],
   "source": [
    "nota = input('Digite un numero entre 0 - 100: ')\n",
    "if int(nota) > 70:\n",
    "    print('Aprobado')\n",
    "else:\n",
    "    print('Falla')\n"
   ]
  },
  {
   "cell_type": "code",
   "execution_count": 4,
   "metadata": {
    "slideshow": {
     "slide_type": "fragment"
    }
   },
   "outputs": [
    {
     "name": "stdout",
     "output_type": "stream",
     "text": [
      "Digite un numero entre 0 - 100: 71\n",
      "Aprobado\n",
      "Falla\n"
     ]
    }
   ],
   "source": [
    "nota = input('Digite un numero entre 0 - 100: ')\n",
    "if int(nota) > 70:\n",
    "    print('Aprobado')\n",
    "print('Falla')\n"
   ]
  },
  {
   "cell_type": "markdown",
   "metadata": {
    "slideshow": {
     "slide_type": "subslide"
    }
   },
   "source": [
    "Se desea implementar un indicador de temperatura de 3 niveles para un motor trifásico. Sea temperatura el nombre de la variable de tipo real\n",
    "* Si temperatura mayor a 40: \"Peligro\"\n",
    "* Si temperatura entre 10 a 40: \"Normal\" \n",
    "* Si temperatura menor a 10: \"Revisar humedad interna motor\""
   ]
  },
  {
   "cell_type": "code",
   "execution_count": 9,
   "metadata": {
    "slideshow": {
     "slide_type": "fragment"
    }
   },
   "outputs": [
    {
     "name": "stdout",
     "output_type": "stream",
     "text": [
      "Ingrese el valor de temperatura: hola\n"
     ]
    },
    {
     "ename": "ValueError",
     "evalue": "could not convert string to float: 'hola'",
     "output_type": "error",
     "traceback": [
      "\u001b[0;31m---------------------------------------------------------------------------\u001b[0m",
      "\u001b[0;31mValueError\u001b[0m                                Traceback (most recent call last)",
      "\u001b[0;32m<ipython-input-9-f4170089fb8e>\u001b[0m in \u001b[0;36m<module>\u001b[0;34m\u001b[0m\n\u001b[0;32m----> 1\u001b[0;31m \u001b[0mtemperatura\u001b[0m \u001b[0;34m=\u001b[0m \u001b[0mfloat\u001b[0m\u001b[0;34m(\u001b[0m\u001b[0minput\u001b[0m\u001b[0;34m(\u001b[0m\u001b[0;34m'Ingrese el valor de temperatura: '\u001b[0m\u001b[0;34m)\u001b[0m\u001b[0;34m)\u001b[0m\u001b[0;34m\u001b[0m\u001b[0m\n\u001b[0m\u001b[1;32m      2\u001b[0m \u001b[0;32mif\u001b[0m \u001b[0mtemperatura\u001b[0m \u001b[0;34m>\u001b[0m \u001b[0;36m40.0\u001b[0m\u001b[0;34m:\u001b[0m\u001b[0;34m\u001b[0m\u001b[0m\n\u001b[1;32m      3\u001b[0m     \u001b[0mprint\u001b[0m\u001b[0;34m(\u001b[0m\u001b[0;34m'Peligro, incrementar refriegeración forzada en el motor'\u001b[0m\u001b[0;34m)\u001b[0m\u001b[0;34m\u001b[0m\u001b[0m\n\u001b[1;32m      4\u001b[0m \u001b[0;32melif\u001b[0m \u001b[0mtemperatura\u001b[0m \u001b[0;34m>=\u001b[0m \u001b[0;36m10.0\u001b[0m \u001b[0;32mand\u001b[0m \u001b[0mtemperatura\u001b[0m \u001b[0;34m<=\u001b[0m\u001b[0;36m40.0\u001b[0m\u001b[0;34m:\u001b[0m\u001b[0;34m\u001b[0m\u001b[0m\n\u001b[1;32m      5\u001b[0m     \u001b[0mprint\u001b[0m\u001b[0;34m(\u001b[0m\u001b[0;34m'Estado Normal'\u001b[0m\u001b[0;34m)\u001b[0m\u001b[0;34m\u001b[0m\u001b[0m\n",
      "\u001b[0;31mValueError\u001b[0m: could not convert string to float: 'hola'"
     ]
    }
   ],
   "source": [
    "temperatura = float(input('Ingrese el valor de temperatura: '))\n",
    "if temperatura > 40.0:\n",
    "    print('Peligro, incrementar refriegeración forzada en el motor')\n",
    "elif temperatura >= 10.0 and temperatura <=40.0:\n",
    "    print('Estado Normal')\n",
    "else: \n",
    "    print('Revisar humedad interna del motor')"
   ]
  },
  {
   "cell_type": "markdown",
   "metadata": {
    "slideshow": {
     "slide_type": "slide"
    }
   },
   "source": [
    "## Try and Catch\n",
    "Cuando necesitamos atrapar los errores en un programa, usamos la sentencia **Try**. Por ejemplo, si en el programa anterior ingresamos una cadena de caracteres en vez de un numero, la operación *float(temperatura)* va a fallar\n",
    "\n",
    "Revise la documentación disponible en: https://docs.python.org/3/tutorial/errors.html"
   ]
  },
  {
   "cell_type": "code",
   "execution_count": 11,
   "metadata": {
    "slideshow": {
     "slide_type": "slide"
    }
   },
   "outputs": [
    {
     "name": "stdout",
     "output_type": "stream",
     "text": [
      "Ingrese el valor de temperatura: \n",
      "Valor ingresado no es un número\n"
     ]
    }
   ],
   "source": [
    "try:\n",
    "    temperatura = float(input('Ingrese el valor de temperatura: '))\n",
    "    if temperatura > 40.0:\n",
    "        print('Peligro, incrementar refriegeración forzada en el motor')\n",
    "    elif temperatura >= 10.0 and temperatura <=40.0:\n",
    "        print('Estado Normal')\n",
    "    else: \n",
    "        print('Revisar humedad interna del motor')\n",
    "except ValueError:\n",
    "    print('Valor ingresado no es un número')\n"
   ]
  },
  {
   "cell_type": "markdown",
   "metadata": {
    "slideshow": {
     "slide_type": "slide"
    }
   },
   "source": [
    "## Ejercicio\n",
    "Simplifique el programa anterior utilizando funciones"
   ]
  },
  {
   "cell_type": "markdown",
   "metadata": {
    "slideshow": {
     "slide_type": "slide"
    }
   },
   "source": [
    "## For Loop:\n",
    "En python el lazo for es distinto al de *C* y generalmente opera sobre listas\n"
   ]
  },
  {
   "cell_type": "code",
   "execution_count": 8,
   "metadata": {
    "slideshow": {
     "slide_type": "fragment"
    }
   },
   "outputs": [
    {
     "name": "stdout",
     "output_type": "stream",
     "text": [
      "Henry\n",
      "Andrea\n",
      "Katherine\n",
      "Jose\n",
      "Marilyn\n",
      "Freddy\n",
      "Diana\n",
      "7\n",
      "5\n"
     ]
    }
   ],
   "source": [
    "lista_nombres = ['Henry','Andrea', 'Katherine', 'Jose', 'Marilyn', 'Freddy', 'Diana']\n",
    "\n",
    "for nombre in lista_nombres:\n",
    "    print(nombre)\n",
    "print(len(lista_nombres))\n",
    "print(len('Lenin'))"
   ]
  },
  {
   "cell_type": "markdown",
   "metadata": {
    "slideshow": {
     "slide_type": "subslide"
    }
   },
   "source": [
    "Imprimir los $n$ primeros números pares"
   ]
  },
  {
   "cell_type": "code",
   "execution_count": 9,
   "metadata": {
    "slideshow": {
     "slide_type": "fragment"
    }
   },
   "outputs": [
    {
     "name": "stdout",
     "output_type": "stream",
     "text": [
      "Ingrese un numero entero 6\n",
      "range(0, 6)\n",
      "0\n",
      "2\n",
      "4\n"
     ]
    }
   ],
   "source": [
    "n = int(input('Ingrese un numero entero '))\n",
    "rango_numeros = range(n)\n",
    "print(rango_numeros)\n",
    "\n",
    "def es_par(numero):\n",
    "    if numero%2 ==0:\n",
    "        return True\n",
    "    else:\n",
    "        return False\n",
    "\n",
    "for numero in rango_numeros:\n",
    "    if es_par(numero=numero):\n",
    "        print(numero)\n",
    "    else:\n",
    "        continue\n"
   ]
  },
  {
   "cell_type": "markdown",
   "metadata": {
    "slideshow": {
     "slide_type": "subslide"
    }
   },
   "source": [
    "## For loop en formato funcional\n",
    "Este formato tiene la ventaja de reducir el numero de lineas de código. Suponga que deseamos obtener a partir de una lista de numeros aleatorios sus respectivos cuadrados. "
   ]
  },
  {
   "cell_type": "code",
   "execution_count": 39,
   "metadata": {
    "slideshow": {
     "slide_type": "fragment"
    }
   },
   "outputs": [
    {
     "name": "stdout",
     "output_type": "stream",
     "text": [
      "Ingrese el tamano de la lista10\n"
     ]
    },
    {
     "data": {
      "text/plain": [
       "[57, 78, 33, 18, 40, 80, 3, 0, 2, 95]"
      ]
     },
     "execution_count": 39,
     "metadata": {},
     "output_type": "execute_result"
    }
   ],
   "source": [
    "from random import randint\n",
    "size_list = int(input('Ingrese el tamano de la lista'))\n",
    "\n",
    "arreglo_original= [ randint(0,100) for i in range(size_list)] \n",
    "arreglo_original"
   ]
  },
  {
   "cell_type": "code",
   "execution_count": 10,
   "metadata": {
    "slideshow": {
     "slide_type": "fragment"
    }
   },
   "outputs": [
    {
     "ename": "NameError",
     "evalue": "name 'arreglo_original' is not defined",
     "output_type": "error",
     "traceback": [
      "\u001b[0;31m---------------------------------------------------------------------------\u001b[0m",
      "\u001b[0;31mNameError\u001b[0m                                 Traceback (most recent call last)",
      "\u001b[0;32m<ipython-input-10-29f18394273a>\u001b[0m in \u001b[0;36m<module>\u001b[0;34m\u001b[0m\n\u001b[0;32m----> 1\u001b[0;31m \u001b[0marreglo_cuadrado\u001b[0m \u001b[0;34m=\u001b[0m \u001b[0;34m[\u001b[0m \u001b[0mnumero\u001b[0m\u001b[0;34m**\u001b[0m\u001b[0;36m2\u001b[0m \u001b[0;32mfor\u001b[0m \u001b[0mnumero\u001b[0m \u001b[0;32min\u001b[0m \u001b[0marreglo_original\u001b[0m\u001b[0;34m]\u001b[0m\u001b[0;34m\u001b[0m\u001b[0m\n\u001b[0m\u001b[1;32m      2\u001b[0m \u001b[0marreglo_cuadrado\u001b[0m\u001b[0;34m\u001b[0m\u001b[0m\n",
      "\u001b[0;31mNameError\u001b[0m: name 'arreglo_original' is not defined"
     ]
    }
   ],
   "source": [
    "arreglo_cuadrado = [ numero**2 for numero in arreglo_original]\n",
    "arreglo_cuadrado"
   ]
  },
  {
   "cell_type": "markdown",
   "metadata": {
    "slideshow": {
     "slide_type": "slide"
    }
   },
   "source": [
    "## While Loop\n",
    "Ejecución de una rutina mientras es verdadera"
   ]
  },
  {
   "cell_type": "code",
   "execution_count": 25,
   "metadata": {
    "slideshow": {
     "slide_type": "fragment"
    }
   },
   "outputs": [
    {
     "name": "stdout",
     "output_type": "stream",
     "text": [
      "Ingrese un numero entero 5\n",
      "0 es menor a 5 \n",
      "1 es menor a 5 \n",
      "2 es menor a 5 \n",
      "3 es menor a 5 \n",
      "4 es menor a 5 \n"
     ]
    }
   ],
   "source": [
    "n = int(input('Ingrese un numero entero '))\n",
    "cont = 0\n",
    "while(cont<n):\n",
    "    print('{} es menor a {} '.format(cont, n))\n",
    "    cont+=1"
   ]
  },
  {
   "cell_type": "markdown",
   "metadata": {
    "slideshow": {
     "slide_type": "slide"
    }
   },
   "source": [
    "## Ejercicios\n",
    "* Escribir una función que verifique si un numero es primo o no\n",
    "* Escribir una función factorial\n",
    "* Escribir una función que verifique si un numero es primo de Sheldon\n",
    "* Dado un arreglo de numeros enteros ordenarlos"
   ]
  },
  {
   "cell_type": "markdown",
   "metadata": {
    "slideshow": {
     "slide_type": "slide"
    }
   },
   "source": [
    "## Zen of python\n",
    "<center>\n",
    "    \n",
    "<img src='images/zen.png' width=50%/>\n",
    "</center>"
   ]
  },
  {
   "cell_type": "markdown",
   "metadata": {
    "slideshow": {
     "slide_type": "slide"
    }
   },
   "source": [
    "## Numpy - Numerical Python\n",
    "* Permite realizar operaciones matriciales similares a las realizables con Matlab\n",
    "* Permite realizar: operaciones multidimensionales, lógicas, algebra lineal, transformadas de fourier, entre otras\n",
    "* Puede utilizar tipos de datos int8, int16, int32 int64, float16, float32, float64, uint8, uint16, uint32\n"
   ]
  },
  {
   "cell_type": "code",
   "execution_count": 1,
   "metadata": {
    "slideshow": {
     "slide_type": "subslide"
    }
   },
   "outputs": [
    {
     "name": "stdout",
     "output_type": "stream",
     "text": [
      "arreglo [1 2 3 4]\n",
      "matriz \n",
      " [[1 2 3]\n",
      " [4 5 6]] \n"
     ]
    }
   ],
   "source": [
    "import numpy as np\n",
    "array1 = np.array([1,2,3,4])\n",
    "matriz = np.matrix([[1,2,3], [4,5,6]])\n",
    "print('arreglo {}'.format(array1))\n",
    "print('matriz \\n {} '.format(matriz))"
   ]
  },
  {
   "cell_type": "code",
   "execution_count": 35,
   "metadata": {
    "slideshow": {
     "slide_type": "fragment"
    }
   },
   "outputs": [
    {
     "data": {
      "text/plain": [
       "matrix([[1, 2, 3],\n",
       "        [4, 5, 6],\n",
       "        [7, 8, 9]])"
      ]
     },
     "execution_count": 35,
     "metadata": {},
     "output_type": "execute_result"
    }
   ],
   "source": [
    "a = np.matrix('1 2 3 ; 4 5 6; 7 8 9')\n",
    "a"
   ]
  },
  {
   "cell_type": "code",
   "execution_count": 37,
   "metadata": {
    "slideshow": {
     "slide_type": "subslide"
    }
   },
   "outputs": [
    {
     "data": {
      "text/plain": [
       "matrix([['1', '2', '3'],\n",
       "        ['4', '5', '6'],\n",
       "        ['7', '8', '9']], dtype='<U1')"
      ]
     },
     "execution_count": 37,
     "metadata": {},
     "output_type": "execute_result"
    }
   ],
   "source": [
    "b = np.matrix('1 2 3 ; 4 5 6; 7 8 9', dtype=str)\n",
    "b"
   ]
  },
  {
   "cell_type": "code",
   "execution_count": 5,
   "metadata": {
    "slideshow": {
     "slide_type": "fragment"
    }
   },
   "outputs": [
    {
     "data": {
      "text/plain": [
       "array([0., 1., 2., 3., 4., 5., 6., 7., 8., 9.], dtype=float32)"
      ]
     },
     "execution_count": 5,
     "metadata": {},
     "output_type": "execute_result"
    }
   ],
   "source": [
    "c = np.arange(0,10,1, dtype=np.float32)\n",
    "c"
   ]
  },
  {
   "cell_type": "code",
   "execution_count": 7,
   "metadata": {
    "slideshow": {
     "slide_type": "fragment"
    }
   },
   "outputs": [
    {
     "data": {
      "text/plain": [
       "array([1.00000000e+000, 1.29154967e+011, 1.66810054e+022, 2.15443469e+033,\n",
       "       2.78255940e+044, 3.59381366e+055, 4.64158883e+066, 5.99484250e+077,\n",
       "       7.74263683e+088, 1.00000000e+100])"
      ]
     },
     "execution_count": 7,
     "metadata": {},
     "output_type": "execute_result"
    }
   ],
   "source": [
    "arreglo = np.logspace(0,100, 10)\n",
    "arreglo"
   ]
  },
  {
   "cell_type": "code",
   "execution_count": 74,
   "metadata": {
    "slideshow": {
     "slide_type": "subslide"
    }
   },
   "outputs": [
    {
     "data": {
      "text/plain": [
       "array([[0.29781994, 0.56418264, 0.30939084, 0.38419085, 0.77670567],\n",
       "       [0.63081208, 0.80897464, 0.67771148, 0.2070571 , 0.16441434],\n",
       "       [0.82124818, 0.73041728, 0.20749951, 0.14371113, 0.88724438],\n",
       "       [0.48732753, 0.86933096, 0.95251085, 0.75384575, 0.22705426],\n",
       "       [0.2058425 , 0.27761099, 0.42665696, 0.55439317, 0.20970712]])"
      ]
     },
     "execution_count": 74,
     "metadata": {},
     "output_type": "execute_result"
    }
   ],
   "source": [
    "mat_a = np.random.rand(5,5)\n",
    "mat_a"
   ]
  },
  {
   "cell_type": "code",
   "execution_count": 75,
   "metadata": {
    "slideshow": {
     "slide_type": "fragment"
    }
   },
   "outputs": [
    {
     "data": {
      "text/plain": [
       "matrix([[0.29781994, 0.56418264, 0.30939084, 0.38419085, 0.77670567],\n",
       "        [0.63081208, 0.80897464, 0.67771148, 0.2070571 , 0.16441434],\n",
       "        [0.82124818, 0.73041728, 0.20749951, 0.14371113, 0.88724438],\n",
       "        [0.48732753, 0.86933096, 0.95251085, 0.75384575, 0.22705426],\n",
       "        [0.2058425 , 0.27761099, 0.42665696, 0.55439317, 0.20970712]])"
      ]
     },
     "execution_count": 75,
     "metadata": {},
     "output_type": "execute_result"
    }
   ],
   "source": [
    "mat_a = np.asmatrix(mat_a)\n",
    "mat_a"
   ]
  },
  {
   "cell_type": "markdown",
   "metadata": {
    "slideshow": {
     "slide_type": "subslide"
    }
   },
   "source": [
    "## Aplicando funciones integradas en Numpy"
   ]
  },
  {
   "cell_type": "code",
   "execution_count": 49,
   "metadata": {
    "slideshow": {
     "slide_type": "fragment"
    }
   },
   "outputs": [
    {
     "data": {
      "text/plain": [
       "array([0, 1, 2, 3, 4, 5, 6, 7, 8, 9])"
      ]
     },
     "execution_count": 49,
     "metadata": {},
     "output_type": "execute_result"
    }
   ],
   "source": [
    "arreglo = np.arange(0,10,1)\n",
    "arreglo"
   ]
  },
  {
   "cell_type": "code",
   "execution_count": 53,
   "metadata": {
    "slideshow": {
     "slide_type": "fragment"
    }
   },
   "outputs": [
    {
     "data": {
      "text/plain": [
       "45"
      ]
     },
     "execution_count": 53,
     "metadata": {},
     "output_type": "execute_result"
    }
   ],
   "source": [
    "x = np.sum(arreglo)\n",
    "x"
   ]
  },
  {
   "cell_type": "code",
   "execution_count": 54,
   "metadata": {
    "slideshow": {
     "slide_type": "fragment"
    }
   },
   "outputs": [
    {
     "data": {
      "text/plain": [
       "4.5"
      ]
     },
     "execution_count": 54,
     "metadata": {},
     "output_type": "execute_result"
    }
   ],
   "source": [
    "x = np.mean(arreglo)\n",
    "x"
   ]
  },
  {
   "cell_type": "code",
   "execution_count": 12,
   "metadata": {
    "slideshow": {
     "slide_type": "subslide"
    }
   },
   "outputs": [
    {
     "name": "stdout",
     "output_type": "stream",
     "text": [
      "max es 9:\n",
      "argumento maximo es 9\n"
     ]
    }
   ],
   "source": [
    "x = np.max([0,1,2,3,4,5,6,7,8,9])\n",
    "print('max es {}:'.format(x))\n",
    "y = np.argmax(arreglo)\n",
    "print('argumento maximo es {}'.format(y))"
   ]
  },
  {
   "cell_type": "code",
   "execution_count": 59,
   "metadata": {
    "slideshow": {
     "slide_type": "fragment"
    }
   },
   "outputs": [
    {
     "data": {
      "text/plain": [
       "2.8722813232690143"
      ]
     },
     "execution_count": 59,
     "metadata": {},
     "output_type": "execute_result"
    }
   ],
   "source": [
    "x = np.std(arreglo)\n",
    "x"
   ]
  },
  {
   "cell_type": "code",
   "execution_count": 17,
   "metadata": {
    "slideshow": {
     "slide_type": "subslide"
    }
   },
   "outputs": [
    {
     "name": "stdout",
     "output_type": "stream",
     "text": [
      "(500,)\n"
     ]
    },
    {
     "data": {
      "image/png": "[encoded data removed]",
      "text/plain": [
       "<Figure size 432x288 with 1 Axes>"
      ]
     },
     "metadata": {
      "needs_background": "light"
     },
     "output_type": "display_data"
    }
   ],
   "source": [
    "arreglo2 = np.random.randint(0, 88, 500)\n",
    "print(np.shape(arreglo2))\n",
    "import matplotlib.pyplot as plt\n",
    "plt.hist(arreglo2)\n",
    "plt.title('Valores Generados')\n",
    "plt.xlabel('Valores')\n",
    "plt.ylabel('Numero')\n",
    "plt.show()"
   ]
  },
  {
   "cell_type": "markdown",
   "metadata": {
    "slideshow": {
     "slide_type": "slide"
    }
   },
   "source": [
    "## Ejercicios\n",
    "* Declare dos arreglos lineales y obtenga el producto escalar de los mismos. Resuelva con numpy y con una funcion propia\n",
    "* Declare dos matrices $A$ y $B$ de tamaños $m$ y $n$ donde $m \\neq n$ y obtenga: $A+B$, $A*B$, $A.*B$"
   ]
  },
  {
   "cell_type": "markdown",
   "metadata": {
    "slideshow": {
     "slide_type": "slide"
    }
   },
   "source": [
    "## Matplotlib\n",
    "La librería de python que permite graficar resultados e imágenes similar a Matlab"
   ]
  },
  {
   "cell_type": "code",
   "execution_count": 70,
   "metadata": {
    "scrolled": true,
    "slideshow": {
     "slide_type": "fragment"
    }
   },
   "outputs": [
    {
     "data": {
      "image/png": "[encoded data removed]",
      "text/plain": [
       "<Figure size 432x288 with 1 Axes>"
      ]
     },
     "metadata": {
      "needs_background": "light"
     },
     "output_type": "display_data"
    },
    {
     "data": {
      "text/plain": [
       "<Figure size 432x288 with 0 Axes>"
      ]
     },
     "metadata": {},
     "output_type": "display_data"
    }
   ],
   "source": [
    "x =np.linspace(-np.pi, np.pi, 300)\n",
    "y1, y2 = np.sin(x), np.cos(x)\n",
    "plt.figure()\n",
    "plt.plot(x, y1, color='blue', linestyle='--')\n",
    "plt.plot(x, y2, color='red', linestyle='-')\n",
    "plt.show()\n",
    "plt.savefig('images/SinCos.png', dpi=180)"
   ]
  },
  {
   "cell_type": "code",
   "execution_count": 73,
   "metadata": {
    "slideshow": {
     "slide_type": "subslide"
    }
   },
   "outputs": [
    {
     "data": {
      "image/png": "[encoded data removed]",
      "text/plain": [
       "<Figure size 432x288 with 2 Axes>"
      ]
     },
     "metadata": {
      "needs_background": "light"
     },
     "output_type": "display_data"
    }
   ],
   "source": [
    "plt.figure()\n",
    "plt.subplot(1,2,1)\n",
    "plt.plot(x,y1)\n",
    "plt.title('G1')\n",
    "plt.subplot(1,2,2)\n",
    "plt.plot(x,y2)\n",
    "plt.title('G2')\n",
    "plt.show()"
   ]
  },
  {
   "cell_type": "code",
   "execution_count": 21,
   "metadata": {
    "scrolled": true,
    "slideshow": {
     "slide_type": "subslide"
    }
   },
   "outputs": [
    {
     "data": {
      "image/png": "[encoded data removed]",
      "text/plain": [
       "<Figure size 432x288 with 2 Axes>"
      ]
     },
     "metadata": {
      "needs_background": "light"
     },
     "output_type": "display_data"
    },
    {
     "name": "stdout",
     "output_type": "stream",
     "text": [
      "img es: \n",
      "[[0.5821019  0.97012174 0.02092457 0.97637058 0.00268676 0.5745126\n",
      "  0.34594046 0.26981077 0.79867569 0.96484095 0.65520482 0.66145239\n",
      "  0.24171224 0.43816913 0.58958472 0.96670058 0.69651487 0.93880951\n",
      "  0.40942485 0.49572681 0.30065389 0.88019042 0.91186985 0.20819683\n",
      "  0.43988034 0.29052609 0.22329319]\n",
      " [0.97544647 0.00547604 0.7820064  0.58469017 0.09178815 0.1351192\n",
      "  0.577656   0.69839017 0.65882953 0.2517433  0.25294846 0.00120564\n",
      "  0.049494   0.50611214 0.96679819 0.47126834 0.02059567 0.405285\n",
      "  0.61423231 0.31330174 0.39592004 0.45394566 0.99553509 0.73953786\n",
      "  0.29558004 0.74879236 0.29132324]\n",
      " [0.1890427  0.74327047 0.8417977  0.62751443 0.83730699 0.28485626\n",
      "  0.86321863 0.68564202 0.07467962 0.30438082 0.24655378 0.47199466\n",
      "  0.23055222 0.78228766 0.93227477 0.00367758 0.62200022 0.69884884\n",
      "  0.25979078 0.58827122 0.69211176 0.85184186 0.23096704 0.95476565\n",
      "  0.60104874 0.23668524 0.41894002]\n",
      " [0.89572819 0.81233188 0.25740361 0.49503318 0.73087225 0.56150677\n",
      "  0.21761483 0.89489972 0.05078703 0.15015335 0.4024632  0.55555142\n",
      "  0.65980923 0.71734188 0.5570662  0.06419824 0.98768073 0.12301109\n",
      "  0.00608985 0.70715213 0.23546554 0.87244407 0.01307336 0.23590719\n",
      "  0.94867743 0.90007342 0.31561104]\n",
      " [0.54802023 0.43933481 0.13347391 0.52009582 0.96174803 0.13926265\n",
      "  0.31705458 0.5836239  0.35465341 0.14462523 0.96010102 0.62488678\n",
      "  0.56116453 0.71823018 0.51639876 0.60821823 0.80440611 0.69120842\n",
      "  0.12872293 0.97504374 0.7378335  0.85486175 0.9169771  0.1691635\n",
      "  0.98537077 0.52738029 0.36433767]\n",
      " [0.69349711 0.3630664  0.99230638 0.24801958 0.43767331 0.95770906\n",
      "  0.50614969 0.08499823 0.04087146 0.59920217 0.01637592 0.97177701\n",
      "  0.29947832 0.86053121 0.82374633 0.43451606 0.81168579 0.75228112\n",
      "  0.89744272 0.57505054 0.07934367 0.67363231 0.69460338 0.80964818\n",
      "  0.03973339 0.55434313 0.44120483]\n",
      " [0.40325057 0.04007435 0.17629711 0.56558717 0.53303127 0.77480601\n",
      "  0.92455608 0.05168573 0.1802298  0.53607865 0.97859221 0.05985714\n",
      "  0.87460606 0.06173393 0.42864251 0.78839707 0.83300408 0.94410222\n",
      "  0.3105986  0.66580508 0.00743977 0.54233211 0.58386384 0.82077068\n",
      "  0.63265052 0.82813642 0.1107653 ]\n",
      " [0.94166791 0.70140956 0.31831409 0.24645665 0.36231843 0.37196615\n",
      "  0.8644129  0.87147689 0.9367272  0.25430366 0.55056489 0.44388682\n",
      "  0.61738012 0.0884715  0.00862382 0.22542617 0.31420284 0.94968642\n",
      "  0.56102752 0.66059574 0.43724778 0.2459447  0.21579688 0.15390375\n",
      "  0.21145579 0.90958832 0.32150285]\n",
      " [0.52663055 0.99987824 0.72860974 0.33815415 0.38013653 0.07646222\n",
      "  0.05894743 0.22650027 0.97736662 0.08985548 0.82003091 0.21887002\n",
      "  0.43244414 0.99124287 0.9488251  0.41393508 0.14616505 0.25085049\n",
      "  0.96462846 0.7708188  0.09428084 0.84281072 0.21201694 0.22075984\n",
      "  0.04252808 0.42581615 0.17669854]\n",
      " [0.43896742 0.40988033 0.7036954  0.17248232 0.51219405 0.82225148\n",
      "  0.89724803 0.53030283 0.08709906 0.26891172 0.20693973 0.45511113\n",
      "  0.53241252 0.73173951 0.05368762 0.34568967 0.20734185 0.5262082\n",
      "  0.21676629 0.13488417 0.83344852 0.34021527 0.66357587 0.99712464\n",
      "  0.9028497  0.14023061 0.78053775]\n",
      " [0.24645697 0.95346683 0.71967934 0.94385635 0.71920617 0.98013105\n",
      "  0.38207676 0.20839773 0.42033395 0.0100163  0.1671029  0.01703242\n",
      "  0.50289146 0.72379126 0.14807744 0.72924781 0.59534678 0.52623597\n",
      "  0.47535435 0.34523819 0.38051831 0.44867645 0.67112317 0.18213373\n",
      "  0.56377551 0.3669879  0.49656986]\n",
      " [0.6620603  0.3551241  0.18636339 0.14669039 0.12975181 0.79188674\n",
      "  0.71912367 0.06658636 0.65830198 0.8667611  0.54289214 0.49488173\n",
      "  0.91291113 0.22078735 0.57652492 0.47642125 0.2898463  0.28261269\n",
      "  0.00318695 0.87103672 0.02986218 0.53704816 0.72856258 0.55309467\n",
      "  0.6482332  0.69729187 0.78143379]\n",
      " [0.48381919 0.80635104 0.43846671 0.59304279 0.26289362 0.7123229\n",
      "  0.06616402 0.51159262 0.86933374 0.47985275 0.97535164 0.51230073\n",
      "  0.76845394 0.64068353 0.0442246  0.03605137 0.2356299  0.28118505\n",
      "  0.93043258 0.79440162 0.12806455 0.5281164  0.08803095 0.3896659\n",
      "  0.93721227 0.78349066 0.06536261]\n",
      " [0.06534299 0.68973883 0.90160428 0.52292059 0.8292122  0.46286731\n",
      "  0.90650369 0.68731838 0.79546316 0.989914   0.36717516 0.22163596\n",
      "  0.35823297 0.51498401 0.55365839 0.88690278 0.65940129 0.69133547\n",
      "  0.23310173 0.65837616 0.90221227 0.73832337 0.46487487 0.68354545\n",
      "  0.2347699  0.62688304 0.44810767]\n",
      " [0.32637079 0.60733505 0.58396423 0.5678869  0.5983665  0.64893326\n",
      "  0.1643235  0.76763102 0.77765283 0.7438163  0.60670303 0.14094712\n",
      "  0.67344876 0.7600506  0.86339398 0.02506269 0.09652046 0.29891478\n",
      "  0.52081794 0.74925935 0.85194957 0.41466346 0.10093168 0.80193478\n",
      "  0.95357508 0.07063177 0.93191527]\n",
      " [0.512961   0.28451266 0.80992535 0.92742409 0.97044006 0.15820448\n",
      "  0.06684575 0.9816519  0.38095392 0.55954284 0.70386918 0.52940164\n",
      "  0.18969766 0.1395604  0.89278354 0.36792902 0.93634288 0.05258664\n",
      "  0.16924085 0.21330411 0.10488788 0.65514951 0.87441738 0.71038758\n",
      "  0.46528047 0.33840615 0.59910784]\n",
      " [0.96687164 0.17711538 0.64056005 0.45233568 0.68203392 0.12252374\n",
      "  0.43362735 0.68403827 0.22733301 0.02637643 0.93853463 0.32998987\n",
      "  0.87576915 0.84661506 0.59664097 0.45376481 0.87185472 0.02343759\n",
      "  0.69580664 0.61101348 0.18048143 0.22115414 0.86062529 0.26139302\n",
      "  0.01773165 0.01893698 0.14098486]\n",
      " [0.90754492 0.5220237  0.78753519 0.10619182 0.94915529 0.22068885\n",
      "  0.84227265 0.9756421  0.87000548 0.68447613 0.74966294 0.53250105\n",
      "  0.26230307 0.62266687 0.18143233 0.21878296 0.4696381  0.34527215\n",
      "  0.30853614 0.76538227 0.98483898 0.91076295 0.97569041 0.85093473\n",
      "  0.89081168 0.40737986 0.43531941]\n",
      " [0.62621469 0.21946506 0.65321017 0.38397573 0.37557074 0.12801141\n",
      "  0.15035778 0.13650524 0.21582936 0.72954255 0.64226259 0.98147237\n",
      "  0.6211025  0.38699186 0.26957625 0.20213251 0.3324917  0.96870338\n",
      "  0.22704886 0.49276307 0.69896884 0.15578698 0.47450704 0.33449391\n",
      "  0.25425495 0.60235188 0.82031346]\n",
      " [0.89336592 0.60745326 0.8606503  0.40342923 0.82236128 0.79419176\n",
      "  0.47104519 0.72900721 0.05089802 0.65048609 0.48649593 0.68345531\n",
      "  0.63319063 0.64646301 0.66716362 0.49020843 0.049442   0.38041056\n",
      "  0.61665421 0.31809232 0.49091292 0.19515718 0.51080596 0.62384719\n",
      "  0.21489577 0.50655649 0.3335342 ]\n",
      " [0.32584809 0.40212369 0.99661848 0.19156951 0.55538537 0.23041635\n",
      "  0.6648425  0.16145754 0.67229042 0.84450422 0.4864144  0.4897042\n",
      "  0.45675158 0.05907326 0.44965063 0.58136581 0.53016576 0.84074631\n",
      "  0.6189142  0.67063249 0.53805247 0.51422911 0.84041934 0.9973862\n",
      "  0.56090064 0.78553887 0.83628569]\n",
      " [0.52738944 0.85168017 0.93845625 0.39624172 0.32431213 0.77930909\n",
      "  0.02643853 0.053391   0.01039525 0.93797116 0.88883862 0.87476633\n",
      "  0.86198758 0.67746079 0.55020143 0.08527966 0.63544757 0.18006202\n",
      "  0.03001049 0.40438526 0.53245601 0.04794568 0.18765859 0.68130801\n",
      "  0.73607426 0.81633074 0.34425661]\n",
      " [0.58752816 0.97608171 0.61523551 0.55897486 0.6675074  0.32110019\n",
      "  0.67023377 0.27104088 0.46747844 0.69524136 0.53101302 0.63164831\n",
      "  0.623874   0.56868332 0.89228044 0.41252333 0.31527334 0.73406345\n",
      "  0.43087387 0.24913393 0.83676434 0.11712923 0.57738011 0.52907589\n",
      "  0.59095145 0.62697323 0.39304039]\n",
      " [0.65925803 0.97811169 0.43883606 0.27114726 0.14553009 0.04427274\n",
      "  0.05498044 0.52681409 0.11966147 0.92694877 0.31503739 0.10969095\n",
      "  0.07311902 0.47568246 0.89172083 0.3296624  0.96578585 0.03998093\n",
      "  0.00991903 0.24435977 0.64332081 0.7240859  0.99644361 0.78983527\n",
      "  0.15334172 0.5185498  0.26295383]\n",
      " [0.36647304 0.70245098 0.05385041 0.72377907 0.85491845 0.65882823\n",
      "  0.43871266 0.60930965 0.09210247 0.7818621  0.58766422 0.31240605\n",
      "  0.5739711  0.88169828 0.36116399 0.85581551 0.57348678 0.16355362\n",
      "  0.14167778 0.07208257 0.57138396 0.86501245 0.3286437  0.24549389\n",
      "  0.05625864 0.82504973 0.85328345]\n",
      " [0.23200237 0.52847226 0.41036266 0.59702839 0.44297138 0.35161561\n",
      "  0.20334818 0.1329481  0.65188768 0.50886414 0.56674025 0.17028096\n",
      "  0.32798291 0.73438733 0.02361195 0.47919736 0.45358468 0.93424926\n",
      "  0.64639957 0.79068054 0.84188423 0.54005463 0.35365825 0.17262041\n",
      "  0.4439135  0.81980312 0.87972652]\n",
      " [0.10693582 0.71195371 0.64438294 0.03222675 0.1955127  0.19502919\n",
      "  0.39117302 0.77257044 0.27826939 0.4808507  0.44197197 0.0853918\n",
      "  0.54672333 0.9361829  0.20249533 0.70107843 0.87095416 0.8017768\n",
      "  0.16886356 0.68261492 0.01248926 0.18789702 0.07632002 0.41080727\n",
      "  0.15405332 0.17002415 0.82188307]]\n"
     ]
    }
   ],
   "source": [
    "img = np.random.random((27,27))\n",
    "plt.imshow(img, cmap='hot')\n",
    "plt.colorbar()\n",
    "plt.show()\n",
    "print('img es: \\n{}'.format(img))"
   ]
  },
  {
   "cell_type": "markdown",
   "metadata": {
    "slideshow": {
     "slide_type": "subslide"
    }
   },
   "source": [
    "# Referencias Adicionales\n",
    "* http://cs231n.github.io/python-numpy-tutorial/\n"
   ]
  },
  {
   "cell_type": "code",
   "execution_count": 80,
   "metadata": {
    "slideshow": {
     "slide_type": "skip"
    }
   },
   "outputs": [
    {
     "data": {
      "text/html": [
       "<div>\n",
       "<style scoped>\n",
       "    .dataframe tbody tr th:only-of-type {\n",
       "        vertical-align: middle;\n",
       "    }\n",
       "\n",
       "    .dataframe tbody tr th {\n",
       "        vertical-align: top;\n",
       "    }\n",
       "\n",
       "    .dataframe thead th {\n",
       "        text-align: right;\n",
       "    }\n",
       "</style>\n",
       "<table border=\"1\" class=\"dataframe\">\n",
       "  <thead>\n",
       "    <tr style=\"text-align: right;\">\n",
       "      <th></th>\n",
       "      <th>aparato1</th>\n",
       "      <th>aparato2</th>\n",
       "    </tr>\n",
       "  </thead>\n",
       "  <tbody>\n",
       "    <tr>\n",
       "      <th>corriente</th>\n",
       "      <td>12.5</td>\n",
       "      <td>12.5</td>\n",
       "    </tr>\n",
       "    <tr>\n",
       "      <th>voltaje</th>\n",
       "      <td>220.0</td>\n",
       "      <td>220.0</td>\n",
       "    </tr>\n",
       "  </tbody>\n",
       "</table>\n",
       "</div>"
      ],
      "text/plain": [
       "           aparato1  aparato2\n",
       "corriente      12.5      12.5\n",
       "voltaje       220.0     220.0"
      ]
     },
     "execution_count": 80,
     "metadata": {},
     "output_type": "execute_result"
    }
   ],
   "source": [
    "import pandas as pd\n",
    "parametros_electricos = { 'aparato1':{'voltaje':220, 'corriente':12.5}, 'aparato2':{'voltaje':220, 'corriente':12.5}}\n",
    "df = pd.DataFrame.from_dict(parametros_electricos)\n",
    "df"
   ]
  },
  {
   "cell_type": "code",
   "execution_count": 82,
   "metadata": {
    "slideshow": {
     "slide_type": "skip"
    }
   },
   "outputs": [
    {
     "data": {
      "text/html": [
       "<div>\n",
       "<style scoped>\n",
       "    .dataframe tbody tr th:only-of-type {\n",
       "        vertical-align: middle;\n",
       "    }\n",
       "\n",
       "    .dataframe tbody tr th {\n",
       "        vertical-align: top;\n",
       "    }\n",
       "\n",
       "    .dataframe thead th {\n",
       "        text-align: right;\n",
       "    }\n",
       "</style>\n",
       "<table border=\"1\" class=\"dataframe\">\n",
       "  <thead>\n",
       "    <tr style=\"text-align: right;\">\n",
       "      <th></th>\n",
       "      <th>persona1</th>\n",
       "      <th>persona2</th>\n",
       "    </tr>\n",
       "  </thead>\n",
       "  <tbody>\n",
       "    <tr>\n",
       "      <th>edad</th>\n",
       "      <td>22</td>\n",
       "      <td>22</td>\n",
       "    </tr>\n",
       "    <tr>\n",
       "      <th>mensual</th>\n",
       "      <td>12</td>\n",
       "      <td>12</td>\n",
       "    </tr>\n",
       "    <tr>\n",
       "      <th>salario</th>\n",
       "      <td>12500</td>\n",
       "      <td>12500</td>\n",
       "    </tr>\n",
       "  </tbody>\n",
       "</table>\n",
       "</div>"
      ],
      "text/plain": [
       "         persona1  persona2\n",
       "edad           22        22\n",
       "mensual        12        12\n",
       "salario     12500     12500"
      ]
     },
     "execution_count": 82,
     "metadata": {},
     "output_type": "execute_result"
    }
   ],
   "source": [
    "parametros_electricos = { 'persona1':{'edad':22, 'salario':12500, 'mensual': 12}, 'persona2':{'edad':22, 'salario':12500, 'mensual': 12}}\n",
    "df = pd.DataFrame.from_dict(parametros_electricos)\n",
    "df"
   ]
  }
 ],
 "metadata": {
  "celltoolbar": "Slideshow",
  "kernelspec": {
   "display_name": "Python 3",
   "language": "python",
   "name": "python3"
  },
  "language_info": {
   "codemirror_mode": {
    "name": "ipython",
    "version": 3
   },
   "file_extension": ".py",
   "mimetype": "text/x-python",
   "name": "python",
   "nbconvert_exporter": "python",
   "pygments_lexer": "ipython3",
   "version": "3.6.4"
  }
 },
 "nbformat": 4,
 "nbformat_minor": 2
}
