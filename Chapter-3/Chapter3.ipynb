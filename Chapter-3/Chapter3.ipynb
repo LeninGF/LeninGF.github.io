{
 "cells": [
  {
   "cell_type": "markdown",
   "metadata": {
    "slideshow": {
     "slide_type": "slide"
    }
   },
   "source": [
    "# Machine Learning\n",
    "\n",
    "> Machine Learning is the field of study that gives computers the ability to learn without being explicitly programmed. \n",
    "\n",
    "Arthur Samuel, 1959"
   ]
  },
  {
   "cell_type": "markdown",
   "metadata": {
    "slideshow": {
     "slide_type": "slide"
    }
   },
   "source": [
    "## Clasificando especies de Iris\n",
    "Se desea distinguir entre 4 tipos de flores iris. Para esto se registran:\n",
    "* largo del pétalo y ancho del pétalo\n",
    "* largo del sépalo y ancho del sépalo\n",
    "\n",
    "Las clases a distinguir son:\n",
    "* setosa\n",
    "* versicolor\n",
    "* virginica\n"
   ]
  },
  {
   "cell_type": "markdown",
   "metadata": {
    "slideshow": {
     "slide_type": "slide"
    }
   },
   "source": [
    "Cargando el dataset de *Iris*"
   ]
  },
  {
   "cell_type": "code",
   "execution_count": 2,
   "metadata": {
    "slideshow": {
     "slide_type": "fragment"
    }
   },
   "outputs": [],
   "source": [
    "from sklearn.datasets import load_iris\n",
    "iris_dataset = load_iris()"
   ]
  },
  {
   "cell_type": "markdown",
   "metadata": {
    "slideshow": {
     "slide_type": "fragment"
    }
   },
   "source": [
    "El dataset viene como un diccionario.\n",
    "Las claves del diccionario de iris son:"
   ]
  },
  {
   "cell_type": "code",
   "execution_count": 3,
   "metadata": {
    "slideshow": {
     "slide_type": "fragment"
    }
   },
   "outputs": [
    {
     "data": {
      "text/plain": [
       "dict_keys(['data', 'target', 'target_names', 'DESCR', 'feature_names', 'filename'])"
      ]
     },
     "execution_count": 3,
     "metadata": {},
     "output_type": "execute_result"
    }
   ],
   "source": [
    "iris_dataset.keys()"
   ]
  },
  {
   "cell_type": "markdown",
   "metadata": {
    "slideshow": {
     "slide_type": "slide"
    }
   },
   "source": [
    "Se va a resolver este problema con el enfoque supervisado de Machine Learning, ya que disponemos las medidas (longitud, ancho) del pétalo y el sépalo de cada tipo de flor.\n",
    "\n",
    "Las medidas registradas son el vector de características $\\mathbf{X}$\n",
    "\n",
    "Las clases identificadas por el experto (setosa, versicolor, virginica) son $\\mathcal{Y}$\n",
    "\n",
    "Resumiendo:\n",
    "\n",
    "Se desea encontrar una función $g: \\mathcal{X} \\rightarrow \\mathcal{Y}$ que aproxime a la función verdadera $f: \\mathcal{X} \\rightarrow \\mathcal{Y}$. Donde:\n",
    "\n",
    "$\\mathbf{X} = \\{longitud\\_sepalo, ancho\\_sepalo, longitud\\_petalo, ancho\\_petalo\\}$\n",
    "\n",
    "$\\mathcal{Y} = \\{setosa, versicolor, virginica\\}$\n",
    "\n",
    "Por tanto se tiene un conjunto de datos $\\mathcal{D}$ tal que se forma de parejas $(\\mathbf{x}_{1},y_{1}), (\\mathbf{x}_{2},y_{2}) \\dots (\\mathbf{x}_{N},y_{N}) $"
   ]
  },
  {
   "cell_type": "code",
   "execution_count": 4,
   "metadata": {
    "slideshow": {
     "slide_type": "slide"
    }
   },
   "outputs": [
    {
     "name": "stdout",
     "output_type": "stream",
     "text": [
      "Vector de características \n",
      "['sepal length (cm)', 'sepal width (cm)', 'petal length (cm)', 'petal width (cm)']\n"
     ]
    }
   ],
   "source": [
    "print(\"Vector de características \\n{}\".format(iris_dataset.feature_names))"
   ]
  },
  {
   "cell_type": "code",
   "execution_count": 5,
   "metadata": {
    "slideshow": {
     "slide_type": "fragment"
    }
   },
   "outputs": [
    {
     "data": {
      "text/plain": [
       "array([[5.1, 3.5, 1.4, 0.2],\n",
       "       [4.9, 3. , 1.4, 0.2],\n",
       "       [4.7, 3.2, 1.3, 0.2],\n",
       "       [4.6, 3.1, 1.5, 0.2],\n",
       "       [5. , 3.6, 1.4, 0.2]])"
      ]
     },
     "execution_count": 5,
     "metadata": {},
     "output_type": "execute_result"
    }
   ],
   "source": [
    "iris_dataset.data[0:5]"
   ]
  },
  {
   "cell_type": "markdown",
   "metadata": {
    "slideshow": {
     "slide_type": "slide"
    }
   },
   "source": [
    "$\\mathcal{Y} = \\{setosa, versicolor, virginica\\} = \\{0,1,2\\}$"
   ]
  },
  {
   "cell_type": "code",
   "execution_count": 6,
   "metadata": {
    "slideshow": {
     "slide_type": "fragment"
    }
   },
   "outputs": [
    {
     "name": "stdout",
     "output_type": "stream",
     "text": [
      "Etiquetas \n",
      "['setosa' 'versicolor' 'virginica']\n"
     ]
    }
   ],
   "source": [
    "print(\"Etiquetas \\n{}\".format(iris_dataset.target_names))"
   ]
  },
  {
   "cell_type": "code",
   "execution_count": 7,
   "metadata": {
    "slideshow": {
     "slide_type": "slide"
    }
   },
   "outputs": [
    {
     "data": {
      "text/plain": [
       "array([0, 0, 0, 0, 0, 0, 0, 0, 0, 0, 0, 0, 0, 0, 0, 0, 0, 0, 0, 0, 0, 0,\n",
       "       0, 0, 0, 0, 0, 0, 0, 0, 0, 0, 0, 0, 0, 0, 0, 0, 0, 0, 1, 1, 1, 1,\n",
       "       1, 1, 1, 1, 1, 1, 1, 1, 1, 1, 1, 1, 1, 1, 1, 1, 1, 1, 1, 1, 1, 1,\n",
       "       1, 1, 1, 1, 1, 1, 1, 1, 1, 1, 1, 1, 1, 1, 1, 1, 1, 1, 1, 1, 1, 1,\n",
       "       1, 1, 2, 2, 2, 2, 2, 2, 2, 2, 2, 2, 2, 2, 2, 2, 2, 2, 2, 2, 2, 2,\n",
       "       2, 2, 2, 2, 2, 2, 2, 2, 2, 2, 2, 2, 2, 2, 2, 2, 2, 2, 2, 2, 2, 2,\n",
       "       2, 2, 2])"
      ]
     },
     "execution_count": 7,
     "metadata": {},
     "output_type": "execute_result"
    }
   ],
   "source": [
    "iris_dataset.target[10:145]"
   ]
  },
  {
   "cell_type": "markdown",
   "metadata": {
    "slideshow": {
     "slide_type": "slide"
    }
   },
   "source": [
    "El ejemplo : $(\\mathbf{x}_{121},y_{121})$ es"
   ]
  },
  {
   "cell_type": "code",
   "execution_count": 8,
   "metadata": {
    "slideshow": {
     "slide_type": "fragment"
    }
   },
   "outputs": [
    {
     "name": "stdout",
     "output_type": "stream",
     "text": [
      "vector caracteristicas: [5.6 2.8 4.9 2. ], etiqueta: 2\n"
     ]
    }
   ],
   "source": [
    "x_121 = iris_dataset.data[121]\n",
    "y_121 = iris_dataset.target[121]\n",
    "print('vector caracteristicas: {}, etiqueta: {}'.format(x_121, y_121))"
   ]
  },
  {
   "cell_type": "markdown",
   "metadata": {
    "slideshow": {
     "slide_type": "slide"
    }
   },
   "source": [
    "El tensor que contiene los datos tiene una forma de $150 \\times 4$. Lo que significa que tenemos un total de 150 ejemplos, con 4 caracteristicas y 150 etiquetas. Cada ejemplo se llama muestra (*sample*)"
   ]
  },
  {
   "cell_type": "code",
   "execution_count": 9,
   "metadata": {
    "slideshow": {
     "slide_type": "fragment"
    }
   },
   "outputs": [
    {
     "data": {
      "text/plain": [
       "(150, 4)"
      ]
     },
     "execution_count": 9,
     "metadata": {},
     "output_type": "execute_result"
    }
   ],
   "source": [
    "iris_dataset['data'].shape"
   ]
  },
  {
   "cell_type": "markdown",
   "metadata": {
    "slideshow": {
     "slide_type": "slide"
    }
   },
   "source": [
    "## Evaluación de Desempeño del algoritmo de aprendizaje\n",
    "Para evaluar el desempeño del algoritmo entrenado, es necesario separar el dataset $\\mathcal{D}$ en dos juegos de datos:\n",
    "\n",
    "* Training Set\n",
    "* Validation Set\n",
    "* Test Set\n",
    "\n",
    "En la mayoría de casos se suele utilizar únicamente los 2 primeros. El **Validation set** se utiliza para realizar mejoras a los hiperparámetros del modelo de tal manera que se mejore **la funcion de costo** y la **precision(accuracy)** del modelo. El Test Set en cambio es un conjunto de datos a los que el modelo nunca esta expuesto y que sirve para medir la capacidad de generalización del mismo frente a **nuevos datos**"
   ]
  },
  {
   "cell_type": "markdown",
   "metadata": {
    "slideshow": {
     "slide_type": "fragment"
    }
   },
   "source": [
    "Método train test split: https://scikit-learn.org/stable/modules/generated/sklearn.model_selection.train_test_split.html"
   ]
  },
  {
   "cell_type": "code",
   "execution_count": 10,
   "metadata": {
    "slideshow": {
     "slide_type": "slide"
    }
   },
   "outputs": [],
   "source": [
    "from sklearn.model_selection import train_test_split\n",
    "x_train, x_test, y_train, y_test = train_test_split(iris_dataset['data'], \n",
    "                                                    iris_dataset['target'], \n",
    "                                                    test_size=0.3, random_state=41)"
   ]
  },
  {
   "cell_type": "markdown",
   "metadata": {
    "slideshow": {
     "slide_type": "fragment"
    }
   },
   "source": [
    "Total de muestras de entrenamiento $\\mathbf{X}$ y  $\\mathcal{Y}$"
   ]
  },
  {
   "cell_type": "code",
   "execution_count": 11,
   "metadata": {
    "slideshow": {
     "slide_type": "fragment"
    }
   },
   "outputs": [
    {
     "name": "stdout",
     "output_type": "stream",
     "text": [
      "la forma de la matriz X de entrenamiento es: (105, 4)\n"
     ]
    }
   ],
   "source": [
    "print(\"la forma de la matriz X de entrenamiento es: {}\".format(x_train.shape))"
   ]
  },
  {
   "cell_type": "code",
   "execution_count": 12,
   "metadata": {
    "slideshow": {
     "slide_type": "fragment"
    }
   },
   "outputs": [
    {
     "data": {
      "text/plain": [
       "(45, 4)"
      ]
     },
     "execution_count": 12,
     "metadata": {},
     "output_type": "execute_result"
    }
   ],
   "source": [
    "x_test.shape"
   ]
  },
  {
   "cell_type": "code",
   "execution_count": 13,
   "metadata": {
    "slideshow": {
     "slide_type": "slide"
    }
   },
   "outputs": [
    {
     "name": "stdout",
     "output_type": "stream",
     "text": [
      "la forma de la matriz Y de entrenamiento es: (105,)\n"
     ]
    }
   ],
   "source": [
    "print(\"la forma de la matriz Y de entrenamiento es: {}\".format(y_train.shape))"
   ]
  },
  {
   "cell_type": "markdown",
   "metadata": {
    "slideshow": {
     "slide_type": "slide"
    }
   },
   "source": [
    "### Ejercicio:\n",
    "Imprima la forma de las matrices de test"
   ]
  },
  {
   "cell_type": "code",
   "execution_count": 14,
   "metadata": {
    "slideshow": {
     "slide_type": "slide"
    }
   },
   "outputs": [
    {
     "name": "stderr",
     "output_type": "stream",
     "text": [
      "/home/leninml/anaconda3/envs/MachineLearning/lib/python3.6/site-packages/ipykernel_launcher.py:12: FutureWarning: pandas.scatter_matrix is deprecated, use pandas.plotting.scatter_matrix instead\n",
      "  if sys.path[0] == '':\n"
     ]
    },
    {
     "data": {
      "image/png": "[encoded data removed]",
      "text/plain": [
       "<Figure size 1080x1080 with 16 Axes>"
      ]
     },
     "metadata": {
      "needs_background": "light"
     },
     "output_type": "display_data"
    }
   ],
   "source": [
    "import pandas as pd\n",
    "import mglearn\n",
    "# create dataframe from data in X_train\n",
    "# label the columns using the strings in iris_dataset.feature_names \n",
    "iris_dataframe = pd.DataFrame(x_train, columns=iris_dataset.feature_names) \n",
    "# create a scatter matrix from the dataframe, color by y_train \n",
    "grr = pd.scatter_matrix(iris_dataframe, \n",
    "                        c=y_train, \n",
    "                        figsize=(15, 15), \n",
    "                        marker='o', \n",
    "                        hist_kwds={'bins': 20}, \n",
    "                        s=60, alpha=.8, cmap=mglearn.cm3)\n",
    "# pd.plotting(grr)"
   ]
  },
  {
   "cell_type": "markdown",
   "metadata": {
    "slideshow": {
     "slide_type": "slide"
    }
   },
   "source": [
    "## K-Nearest Neighbors\n",
    "* Asume que toda instancia corresponde a puntos en un spacio $n$ - dimensional $R^{n}$\n",
    "* Los vecinos más cercanos se definen en términos de una medida de distancia e.g. La distancia Euclidea.\n",
    "\n",
    "Por ejemplo, si una muestra de $\\mathcal{X}$ del dataset $\\mathcal{D}$ es un vector de características:\n",
    "\n",
    "$\\mathbf{x}_{r} = <x_{r,1},x_{r,2},\\dots, x_{r,n}>$, entonces, la distancia entre dos datos $i$ y $j$ es:\n",
    "\n",
    "$d(\\mathbf{x}_{i}, \\mathbf{x}_{j})=\\sqrt{\\sum_{k=1}^{n}({x}_{i,k}-{x}_{j,k})^{2}}$"
   ]
  },
  {
   "cell_type": "markdown",
   "metadata": {
    "slideshow": {
     "slide_type": "fragment"
    }
   },
   "source": [
    "* La función objetivo (**target function**) en KNN puede ser discreta(clasificación) o real(regresión)\n"
   ]
  },
  {
   "cell_type": "markdown",
   "metadata": {
    "slideshow": {
     "slide_type": "slide"
    }
   },
   "source": [
    "## Algoritmo KNN\n",
    "Training:\n",
    "\n",
    "* Para cada ejemplo de entrenamiento $(\\mathbf{x}, y)$, añada el ejemplo a la lista de entrenamiento. \n",
    "\n",
    "Clasification: Dada una instancia $x_{q}$ a ser clasificada\n",
    "* Defina un valor de $k$ vecinos próximos. Teniendo $\\mathbf{x}_{1}, \\mathbf{x}_{2} \\dots, \\mathbf{x}_{n} $ muestras del conjunto de **ejemplos de entrenamiento** y calcule su distancia a $q$\n",
    "* Devuelva el voto de la mayoría\n",
    "\n",
    "$g(\\mathbf{x}_{q}) = argmax \\sum_{i=1}^{k}\\delta(y_{verdadero}, f(\\mathbf{x}_{i}))$\n",
    "\n",
    "Donde: $\\delta(y_{verdadero}, f(\\mathbf{x}_{i})) = 1$ si $y_{verdadero}=f(\\mathbf{x}_{i})$ y $\\delta(y_{verdadero}, f(\\mathbf{x}_{i})) = 0$, caso contrario"
   ]
  },
  {
   "cell_type": "code",
   "execution_count": 15,
   "metadata": {
    "slideshow": {
     "slide_type": "slide"
    }
   },
   "outputs": [
    {
     "data": {
      "text/plain": [
       "KNeighborsClassifier(algorithm='brute', leaf_size=30, metric='minkowski',\n",
       "           metric_params=None, n_jobs=None, n_neighbors=2, p=2,\n",
       "           weights='uniform')"
      ]
     },
     "execution_count": 15,
     "metadata": {},
     "output_type": "execute_result"
    }
   ],
   "source": [
    "from sklearn.neighbors import KNeighborsClassifier\n",
    "knn = KNeighborsClassifier(n_neighbors=2, algorithm='brute')\n",
    "knn.fit(x_train, y_train)"
   ]
  },
  {
   "cell_type": "markdown",
   "metadata": {
    "slideshow": {
     "slide_type": "fragment"
    }
   },
   "source": [
    "Para que jupyter o ipython imprima información sobre le objeto/método usado:"
   ]
  },
  {
   "cell_type": "code",
   "execution_count": 16,
   "metadata": {
    "slideshow": {
     "slide_type": "fragment"
    }
   },
   "outputs": [],
   "source": [
    "KNeighborsClassifier?"
   ]
  },
  {
   "cell_type": "markdown",
   "metadata": {
    "slideshow": {
     "slide_type": "slide"
    }
   },
   "source": [
    "### Evaluando KNN"
   ]
  },
  {
   "cell_type": "code",
   "execution_count": 17,
   "metadata": {
    "slideshow": {
     "slide_type": "fragment"
    }
   },
   "outputs": [
    {
     "data": {
      "text/plain": [
       "0.8888888888888888"
      ]
     },
     "execution_count": 17,
     "metadata": {},
     "output_type": "execute_result"
    }
   ],
   "source": [
    "knn.score(x_test, y_test)"
   ]
  },
  {
   "cell_type": "code",
   "execution_count": 18,
   "metadata": {
    "slideshow": {
     "slide_type": "fragment"
    }
   },
   "outputs": [],
   "source": [
    "y_pred = knn.predict(x_test)"
   ]
  },
  {
   "cell_type": "code",
   "execution_count": 19,
   "metadata": {
    "slideshow": {
     "slide_type": "slide"
    }
   },
   "outputs": [
    {
     "data": {
      "text/html": [
       "<div>\n",
       "<style scoped>\n",
       "    .dataframe tbody tr th:only-of-type {\n",
       "        vertical-align: middle;\n",
       "    }\n",
       "\n",
       "    .dataframe tbody tr th {\n",
       "        vertical-align: top;\n",
       "    }\n",
       "\n",
       "    .dataframe thead th {\n",
       "        text-align: right;\n",
       "    }\n",
       "</style>\n",
       "<table border=\"1\" class=\"dataframe\">\n",
       "  <thead>\n",
       "    <tr style=\"text-align: right;\">\n",
       "      <th></th>\n",
       "      <th>y_predict</th>\n",
       "      <th>y_verdadero</th>\n",
       "    </tr>\n",
       "  </thead>\n",
       "  <tbody>\n",
       "    <tr>\n",
       "      <th>0</th>\n",
       "      <td>1</td>\n",
       "      <td>2</td>\n",
       "    </tr>\n",
       "    <tr>\n",
       "      <th>1</th>\n",
       "      <td>2</td>\n",
       "      <td>2</td>\n",
       "    </tr>\n",
       "    <tr>\n",
       "      <th>2</th>\n",
       "      <td>2</td>\n",
       "      <td>2</td>\n",
       "    </tr>\n",
       "    <tr>\n",
       "      <th>3</th>\n",
       "      <td>1</td>\n",
       "      <td>1</td>\n",
       "    </tr>\n",
       "    <tr>\n",
       "      <th>4</th>\n",
       "      <td>2</td>\n",
       "      <td>2</td>\n",
       "    </tr>\n",
       "    <tr>\n",
       "      <th>5</th>\n",
       "      <td>1</td>\n",
       "      <td>1</td>\n",
       "    </tr>\n",
       "    <tr>\n",
       "      <th>6</th>\n",
       "      <td>2</td>\n",
       "      <td>2</td>\n",
       "    </tr>\n",
       "    <tr>\n",
       "      <th>7</th>\n",
       "      <td>1</td>\n",
       "      <td>1</td>\n",
       "    </tr>\n",
       "    <tr>\n",
       "      <th>8</th>\n",
       "      <td>2</td>\n",
       "      <td>2</td>\n",
       "    </tr>\n",
       "    <tr>\n",
       "      <th>9</th>\n",
       "      <td>2</td>\n",
       "      <td>2</td>\n",
       "    </tr>\n",
       "    <tr>\n",
       "      <th>10</th>\n",
       "      <td>2</td>\n",
       "      <td>2</td>\n",
       "    </tr>\n",
       "    <tr>\n",
       "      <th>11</th>\n",
       "      <td>0</td>\n",
       "      <td>0</td>\n",
       "    </tr>\n",
       "    <tr>\n",
       "      <th>12</th>\n",
       "      <td>0</td>\n",
       "      <td>0</td>\n",
       "    </tr>\n",
       "    <tr>\n",
       "      <th>13</th>\n",
       "      <td>1</td>\n",
       "      <td>1</td>\n",
       "    </tr>\n",
       "    <tr>\n",
       "      <th>14</th>\n",
       "      <td>0</td>\n",
       "      <td>0</td>\n",
       "    </tr>\n",
       "    <tr>\n",
       "      <th>15</th>\n",
       "      <td>1</td>\n",
       "      <td>2</td>\n",
       "    </tr>\n",
       "    <tr>\n",
       "      <th>16</th>\n",
       "      <td>0</td>\n",
       "      <td>0</td>\n",
       "    </tr>\n",
       "    <tr>\n",
       "      <th>17</th>\n",
       "      <td>2</td>\n",
       "      <td>1</td>\n",
       "    </tr>\n",
       "    <tr>\n",
       "      <th>18</th>\n",
       "      <td>0</td>\n",
       "      <td>0</td>\n",
       "    </tr>\n",
       "    <tr>\n",
       "      <th>19</th>\n",
       "      <td>0</td>\n",
       "      <td>0</td>\n",
       "    </tr>\n",
       "    <tr>\n",
       "      <th>20</th>\n",
       "      <td>1</td>\n",
       "      <td>1</td>\n",
       "    </tr>\n",
       "    <tr>\n",
       "      <th>21</th>\n",
       "      <td>2</td>\n",
       "      <td>2</td>\n",
       "    </tr>\n",
       "    <tr>\n",
       "      <th>22</th>\n",
       "      <td>0</td>\n",
       "      <td>0</td>\n",
       "    </tr>\n",
       "    <tr>\n",
       "      <th>23</th>\n",
       "      <td>0</td>\n",
       "      <td>0</td>\n",
       "    </tr>\n",
       "    <tr>\n",
       "      <th>24</th>\n",
       "      <td>1</td>\n",
       "      <td>1</td>\n",
       "    </tr>\n",
       "    <tr>\n",
       "      <th>25</th>\n",
       "      <td>1</td>\n",
       "      <td>1</td>\n",
       "    </tr>\n",
       "    <tr>\n",
       "      <th>26</th>\n",
       "      <td>1</td>\n",
       "      <td>1</td>\n",
       "    </tr>\n",
       "    <tr>\n",
       "      <th>27</th>\n",
       "      <td>1</td>\n",
       "      <td>1</td>\n",
       "    </tr>\n",
       "    <tr>\n",
       "      <th>28</th>\n",
       "      <td>0</td>\n",
       "      <td>0</td>\n",
       "    </tr>\n",
       "    <tr>\n",
       "      <th>29</th>\n",
       "      <td>1</td>\n",
       "      <td>1</td>\n",
       "    </tr>\n",
       "    <tr>\n",
       "      <th>30</th>\n",
       "      <td>1</td>\n",
       "      <td>1</td>\n",
       "    </tr>\n",
       "    <tr>\n",
       "      <th>31</th>\n",
       "      <td>1</td>\n",
       "      <td>1</td>\n",
       "    </tr>\n",
       "    <tr>\n",
       "      <th>32</th>\n",
       "      <td>1</td>\n",
       "      <td>2</td>\n",
       "    </tr>\n",
       "    <tr>\n",
       "      <th>33</th>\n",
       "      <td>1</td>\n",
       "      <td>1</td>\n",
       "    </tr>\n",
       "    <tr>\n",
       "      <th>34</th>\n",
       "      <td>2</td>\n",
       "      <td>2</td>\n",
       "    </tr>\n",
       "    <tr>\n",
       "      <th>35</th>\n",
       "      <td>0</td>\n",
       "      <td>0</td>\n",
       "    </tr>\n",
       "    <tr>\n",
       "      <th>36</th>\n",
       "      <td>2</td>\n",
       "      <td>2</td>\n",
       "    </tr>\n",
       "    <tr>\n",
       "      <th>37</th>\n",
       "      <td>1</td>\n",
       "      <td>1</td>\n",
       "    </tr>\n",
       "    <tr>\n",
       "      <th>38</th>\n",
       "      <td>2</td>\n",
       "      <td>2</td>\n",
       "    </tr>\n",
       "    <tr>\n",
       "      <th>39</th>\n",
       "      <td>2</td>\n",
       "      <td>1</td>\n",
       "    </tr>\n",
       "    <tr>\n",
       "      <th>40</th>\n",
       "      <td>1</td>\n",
       "      <td>1</td>\n",
       "    </tr>\n",
       "    <tr>\n",
       "      <th>41</th>\n",
       "      <td>1</td>\n",
       "      <td>1</td>\n",
       "    </tr>\n",
       "    <tr>\n",
       "      <th>42</th>\n",
       "      <td>0</td>\n",
       "      <td>0</td>\n",
       "    </tr>\n",
       "    <tr>\n",
       "      <th>43</th>\n",
       "      <td>2</td>\n",
       "      <td>2</td>\n",
       "    </tr>\n",
       "    <tr>\n",
       "      <th>44</th>\n",
       "      <td>2</td>\n",
       "      <td>2</td>\n",
       "    </tr>\n",
       "  </tbody>\n",
       "</table>\n",
       "</div>"
      ],
      "text/plain": [
       "    y_predict  y_verdadero\n",
       "0           1            2\n",
       "1           2            2\n",
       "2           2            2\n",
       "3           1            1\n",
       "4           2            2\n",
       "5           1            1\n",
       "6           2            2\n",
       "7           1            1\n",
       "8           2            2\n",
       "9           2            2\n",
       "10          2            2\n",
       "11          0            0\n",
       "12          0            0\n",
       "13          1            1\n",
       "14          0            0\n",
       "15          1            2\n",
       "16          0            0\n",
       "17          2            1\n",
       "18          0            0\n",
       "19          0            0\n",
       "20          1            1\n",
       "21          2            2\n",
       "22          0            0\n",
       "23          0            0\n",
       "24          1            1\n",
       "25          1            1\n",
       "26          1            1\n",
       "27          1            1\n",
       "28          0            0\n",
       "29          1            1\n",
       "30          1            1\n",
       "31          1            1\n",
       "32          1            2\n",
       "33          1            1\n",
       "34          2            2\n",
       "35          0            0\n",
       "36          2            2\n",
       "37          1            1\n",
       "38          2            2\n",
       "39          2            1\n",
       "40          1            1\n",
       "41          1            1\n",
       "42          0            0\n",
       "43          2            2\n",
       "44          2            2"
      ]
     },
     "execution_count": 19,
     "metadata": {},
     "output_type": "execute_result"
    }
   ],
   "source": [
    "import pandas as pd\n",
    "dicc = {'y_predict':y_pred, 'y_verdadero':y_test}\n",
    "dataf = pd.DataFrame.from_dict(dicc)\n",
    "dataf\n",
    "# print(y_test)\n",
    "# print(y_pred)"
   ]
  },
  {
   "cell_type": "markdown",
   "metadata": {
    "slideshow": {
     "slide_type": "slide"
    }
   },
   "source": [
    "## Prediciendo nuevos datos"
   ]
  },
  {
   "cell_type": "code",
   "execution_count": 20,
   "metadata": {
    "slideshow": {
     "slide_type": "fragment"
    }
   },
   "outputs": [
    {
     "name": "stdout",
     "output_type": "stream",
     "text": [
      "Valor que predice knn para x: [[5.  2.9 1.  0.2]]: [0]\n",
      "Etiqueta:['setosa']\n"
     ]
    }
   ],
   "source": [
    "import numpy as np\n",
    "x_new = np.array([[5, 2.9, 1, 0.2]])\n",
    "y_new = knn.predict(x_new)\n",
    "y_new_label = iris_dataset['target_names'][y_new]\n",
    "print('Valor que predice knn para x: {}: {}'.format(x_new, y_new))\n",
    "print('Etiqueta:{}'.format(y_new_label))"
   ]
  },
  {
   "cell_type": "code",
   "execution_count": 21,
   "metadata": {
    "slideshow": {
     "slide_type": "slide"
    }
   },
   "outputs": [],
   "source": [
    "lista_clase = {'katherine':[20, 'piscis', 'soul'], \n",
    "               'henry' :[23, 'no-se', 'reggeton'], \n",
    "               'jose':[20, 'piscis', 'soul'], \n",
    "               'marilyn':[20, 'piscis', 'soul'],\n",
    "               'freddy':[20, 'piscis', 'soul'],\n",
    "               'diana':[20, 'piscis', 'soul'],\n",
    "               'el_profe':[999, 'geminis', 'metal-sinfonico']\n",
    "              }"
   ]
  },
  {
   "cell_type": "code",
   "execution_count": 22,
   "metadata": {
    "slideshow": {
     "slide_type": "fragment"
    }
   },
   "outputs": [
    {
     "data": {
      "text/html": [
       "<div>\n",
       "<style scoped>\n",
       "    .dataframe tbody tr th:only-of-type {\n",
       "        vertical-align: middle;\n",
       "    }\n",
       "\n",
       "    .dataframe tbody tr th {\n",
       "        vertical-align: top;\n",
       "    }\n",
       "\n",
       "    .dataframe thead th {\n",
       "        text-align: right;\n",
       "    }\n",
       "</style>\n",
       "<table border=\"1\" class=\"dataframe\">\n",
       "  <thead>\n",
       "    <tr style=\"text-align: right;\">\n",
       "      <th></th>\n",
       "      <th>katherine</th>\n",
       "      <th>henry</th>\n",
       "      <th>jose</th>\n",
       "      <th>marilyn</th>\n",
       "      <th>freddy</th>\n",
       "      <th>diana</th>\n",
       "      <th>el_profe</th>\n",
       "    </tr>\n",
       "  </thead>\n",
       "  <tbody>\n",
       "    <tr>\n",
       "      <th>0</th>\n",
       "      <td>20</td>\n",
       "      <td>23</td>\n",
       "      <td>20</td>\n",
       "      <td>20</td>\n",
       "      <td>20</td>\n",
       "      <td>20</td>\n",
       "      <td>999</td>\n",
       "    </tr>\n",
       "    <tr>\n",
       "      <th>1</th>\n",
       "      <td>piscis</td>\n",
       "      <td>no-se</td>\n",
       "      <td>piscis</td>\n",
       "      <td>piscis</td>\n",
       "      <td>piscis</td>\n",
       "      <td>piscis</td>\n",
       "      <td>geminis</td>\n",
       "    </tr>\n",
       "    <tr>\n",
       "      <th>2</th>\n",
       "      <td>soul</td>\n",
       "      <td>reggeton</td>\n",
       "      <td>soul</td>\n",
       "      <td>soul</td>\n",
       "      <td>soul</td>\n",
       "      <td>soul</td>\n",
       "      <td>metal-sinfonico</td>\n",
       "    </tr>\n",
       "  </tbody>\n",
       "</table>\n",
       "</div>"
      ],
      "text/plain": [
       "  katherine     henry    jose marilyn  freddy   diana         el_profe\n",
       "0        20        23      20      20      20      20              999\n",
       "1    piscis     no-se  piscis  piscis  piscis  piscis          geminis\n",
       "2      soul  reggeton    soul    soul    soul    soul  metal-sinfonico"
      ]
     },
     "execution_count": 22,
     "metadata": {},
     "output_type": "execute_result"
    }
   ],
   "source": [
    "data_frame_lista = pd.DataFrame.from_dict(lista_clase)\n",
    "data_frame_lista"
   ]
  },
  {
   "cell_type": "markdown",
   "metadata": {
    "slideshow": {
     "slide_type": "slide"
    }
   },
   "source": [
    "## Ejercicios:\n",
    "1. Muestre usando pandas dataframe los resultados de y_ground_truth y y_predict\n",
    "2. Realice un programa en el que pueda cambiar los valores de $k$ y grafique el score obtenido en cada caso\n",
    "3. K-nearest tambien se puede utilizar para realizar prediciones sobre regresión de números reales. Encuentre un dataset y presente los resultados"
   ]
  }
 ],
 "metadata": {
  "celltoolbar": "Slideshow",
  "kernelspec": {
   "display_name": "Python 3",
   "language": "python",
   "name": "python3"
  },
  "language_info": {
   "codemirror_mode": {
    "name": "ipython",
    "version": 3
   },
   "file_extension": ".py",
   "mimetype": "text/x-python",
   "name": "python",
   "nbconvert_exporter": "python",
   "pygments_lexer": "ipython3",
   "version": "3.6.4"
  }
 },
 "nbformat": 4,
 "nbformat_minor": 2
}
